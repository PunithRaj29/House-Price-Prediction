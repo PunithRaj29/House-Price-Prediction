{
 "cells": [
  {
   "cell_type": "code",
   "execution_count": 1,
   "id": "d7517fcc",
   "metadata": {},
   "outputs": [],
   "source": [
    "import pandas as pd\n",
    "import numpy as np\n",
    "import matplotlib.pyplot as plt\n",
    "%matplotlib inline"
   ]
  },
  {
   "cell_type": "code",
   "execution_count": 2,
   "id": "3a458759",
   "metadata": {},
   "outputs": [],
   "source": [
    "housetrain=pd.read_csv('train.csv')"
   ]
  },
  {
   "cell_type": "code",
   "execution_count": 3,
   "id": "71e8ec1d",
   "metadata": {},
   "outputs": [],
   "source": [
    "housetest=pd.read_csv('test.csv')"
   ]
  },
  {
   "cell_type": "code",
   "execution_count": 4,
   "id": "690aaf50",
   "metadata": {},
   "outputs": [
    {
     "data": {
      "text/plain": [
       "(1460, 81)"
      ]
     },
     "execution_count": 4,
     "metadata": {},
     "output_type": "execute_result"
    }
   ],
   "source": [
    "housetrain.shape"
   ]
  },
  {
   "cell_type": "code",
   "execution_count": 5,
   "id": "cb985685",
   "metadata": {},
   "outputs": [
    {
     "data": {
      "text/plain": [
       "(1459, 80)"
      ]
     },
     "execution_count": 5,
     "metadata": {},
     "output_type": "execute_result"
    }
   ],
   "source": [
    "housetest.shape\n",
    "# Test Data do not have Dependent Variable 'SalePrice', Predict it using\n",
    "# Trained model"
   ]
  },
  {
   "cell_type": "code",
   "execution_count": 6,
   "id": "41c6a8fb",
   "metadata": {},
   "outputs": [],
   "source": [
    "# Adding Dependent Varaible to Test Data with single value 'test' for \n",
    "# matching number of columns of train data & for Data subsetting in end\n",
    "housetest['SalePrice']='test'"
   ]
  },
  {
   "cell_type": "code",
   "execution_count": 7,
   "id": "71d6b021",
   "metadata": {},
   "outputs": [],
   "source": [
    "# Concatening Both Train & Test dataframes for preprocessing\n",
    "combinedf=pd.concat([housetrain,housetest],axis=0)\n",
    "# axis=0 Row wise Concatenation"
   ]
  },
  {
   "cell_type": "code",
   "execution_count": 8,
   "id": "b14bbd89",
   "metadata": {},
   "outputs": [
    {
     "data": {
      "text/plain": [
       "(2919, 81)"
      ]
     },
     "execution_count": 8,
     "metadata": {},
     "output_type": "execute_result"
    }
   ],
   "source": [
    "combinedf.shape"
   ]
  },
  {
   "cell_type": "code",
   "execution_count": 9,
   "id": "868c61f0",
   "metadata": {},
   "outputs": [],
   "source": [
    "# Split Dataframe into Numeric data & Non Numericdata\n",
    "# Preprocessing is different for Object Data & Numeric Data, hence split\n",
    "objectcols=combinedf.select_dtypes(include=['object'])\n",
    "numericcols=combinedf.select_dtypes(include=np.number)"
   ]
  },
  {
   "cell_type": "code",
   "execution_count": 10,
   "id": "d2ad1ac3",
   "metadata": {},
   "outputs": [
    {
     "name": "stdout",
     "output_type": "stream",
     "text": [
      "(2919, 44)\n",
      "(2919, 37)\n"
     ]
    }
   ],
   "source": [
    "print(objectcols.shape)\n",
    "print(numericcols.shape)\n",
    "# Number of Object Columns is 44\n",
    "# Number of Numeric Columns is 37"
   ]
  },
  {
   "cell_type": "code",
   "execution_count": 11,
   "id": "12f3421c",
   "metadata": {},
   "outputs": [
    {
     "data": {
      "text/plain": [
       "PoolQC           2909\n",
       "MiscFeature      2814\n",
       "Alley            2721\n",
       "Fence            2348\n",
       "FireplaceQu      1420\n",
       "GarageCond        159\n",
       "GarageQual        159\n",
       "GarageFinish      159\n",
       "GarageType        157\n",
       "BsmtCond           82\n",
       "BsmtExposure       82\n",
       "BsmtQual           81\n",
       "BsmtFinType2       80\n",
       "BsmtFinType1       79\n",
       "MasVnrType         24\n",
       "MSZoning            4\n",
       "Utilities           2\n",
       "Functional          2\n",
       "Exterior2nd         1\n",
       "Electrical          1\n",
       "SaleType            1\n",
       "Exterior1st         1\n",
       "KitchenQual         1\n",
       "RoofStyle           0\n",
       "Neighborhood        0\n",
       "SaleCondition       0\n",
       "ExterQual           0\n",
       "LotShape            0\n",
       "LandContour         0\n",
       "ExterCond           0\n",
       "PavedDrive          0\n",
       "LotConfig           0\n",
       "LandSlope           0\n",
       "Condition1          0\n",
       "HouseStyle          0\n",
       "Condition2          0\n",
       "Foundation          0\n",
       "RoofMatl            0\n",
       "Street              0\n",
       "CentralAir          0\n",
       "HeatingQC           0\n",
       "Heating             0\n",
       "BldgType            0\n",
       "SalePrice           0\n",
       "dtype: int64"
      ]
     },
     "execution_count": 11,
     "metadata": {},
     "output_type": "execute_result"
    }
   ],
   "source": [
    "# Check Missing Values in Object Columns\n",
    "objectcols.isnull().sum().sort_values(ascending=False)"
   ]
  },
  {
   "cell_type": "code",
   "execution_count": 12,
   "id": "137ae0a1",
   "metadata": {},
   "outputs": [
    {
     "name": "stdout",
     "output_type": "stream",
     "text": [
      "<class 'pandas.core.frame.DataFrame'>\n",
      "Int64Index: 2919 entries, 0 to 1458\n",
      "Data columns (total 44 columns):\n",
      " #   Column         Non-Null Count  Dtype \n",
      "---  ------         --------------  ----- \n",
      " 0   MSZoning       2915 non-null   object\n",
      " 1   Street         2919 non-null   object\n",
      " 2   Alley          198 non-null    object\n",
      " 3   LotShape       2919 non-null   object\n",
      " 4   LandContour    2919 non-null   object\n",
      " 5   Utilities      2917 non-null   object\n",
      " 6   LotConfig      2919 non-null   object\n",
      " 7   LandSlope      2919 non-null   object\n",
      " 8   Neighborhood   2919 non-null   object\n",
      " 9   Condition1     2919 non-null   object\n",
      " 10  Condition2     2919 non-null   object\n",
      " 11  BldgType       2919 non-null   object\n",
      " 12  HouseStyle     2919 non-null   object\n",
      " 13  RoofStyle      2919 non-null   object\n",
      " 14  RoofMatl       2919 non-null   object\n",
      " 15  Exterior1st    2918 non-null   object\n",
      " 16  Exterior2nd    2918 non-null   object\n",
      " 17  MasVnrType     2895 non-null   object\n",
      " 18  ExterQual      2919 non-null   object\n",
      " 19  ExterCond      2919 non-null   object\n",
      " 20  Foundation     2919 non-null   object\n",
      " 21  BsmtQual       2838 non-null   object\n",
      " 22  BsmtCond       2837 non-null   object\n",
      " 23  BsmtExposure   2837 non-null   object\n",
      " 24  BsmtFinType1   2840 non-null   object\n",
      " 25  BsmtFinType2   2839 non-null   object\n",
      " 26  Heating        2919 non-null   object\n",
      " 27  HeatingQC      2919 non-null   object\n",
      " 28  CentralAir     2919 non-null   object\n",
      " 29  Electrical     2918 non-null   object\n",
      " 30  KitchenQual    2918 non-null   object\n",
      " 31  Functional     2917 non-null   object\n",
      " 32  FireplaceQu    1499 non-null   object\n",
      " 33  GarageType     2762 non-null   object\n",
      " 34  GarageFinish   2760 non-null   object\n",
      " 35  GarageQual     2760 non-null   object\n",
      " 36  GarageCond     2760 non-null   object\n",
      " 37  PavedDrive     2919 non-null   object\n",
      " 38  PoolQC         10 non-null     object\n",
      " 39  Fence          571 non-null    object\n",
      " 40  MiscFeature    105 non-null    object\n",
      " 41  SaleType       2918 non-null   object\n",
      " 42  SaleCondition  2919 non-null   object\n",
      " 43  SalePrice      2919 non-null   object\n",
      "dtypes: object(44)\n",
      "memory usage: 1.0+ MB\n"
     ]
    }
   ],
   "source": [
    "objectcols.info()"
   ]
  },
  {
   "cell_type": "code",
   "execution_count": 13,
   "id": "4eb5bcec",
   "metadata": {},
   "outputs": [],
   "source": [
    "# As per Data Dictionary, NA means the following:\n",
    "# PoolQC - NA - No Pool\n",
    "# MiscFeature - No MiscFeature\n",
    "# Alley - NA  - No Alley Access\n",
    "# Fence - NA  - No Fence\n",
    "# FireplaceQu - NA - No Fireplace"
   ]
  },
  {
   "cell_type": "code",
   "execution_count": 14,
   "id": "cd6b5b4a",
   "metadata": {},
   "outputs": [
    {
     "name": "stderr",
     "output_type": "stream",
     "text": [
      "C:\\Users\\HP\\AppData\\Local\\Temp/ipykernel_10504/1385896283.py:4: SettingWithCopyWarning: \n",
      "A value is trying to be set on a copy of a slice from a DataFrame.\n",
      "Try using .loc[row_indexer,col_indexer] = value instead\n",
      "\n",
      "See the caveats in the documentation: https://pandas.pydata.org/pandas-docs/stable/user_guide/indexing.html#returning-a-view-versus-a-copy\n",
      "  objectcols[col]=objectcols[col].fillna('NotAvailable')\n"
     ]
    }
   ],
   "source": [
    "# Imputing Missing Values with NotAvaialable using For Loop & Column list\n",
    "notavail=['PoolQC','MiscFeature','Alley','Fence','FireplaceQu']\n",
    "for col in notavail:\n",
    "    objectcols[col]=objectcols[col].fillna('NotAvailable')"
   ]
  },
  {
   "cell_type": "code",
   "execution_count": 15,
   "id": "1cc57a23",
   "metadata": {},
   "outputs": [],
   "source": [
    "# As per Data Dictionary, NA means the following:\n",
    "#GarageCond- No Garage       \n",
    "#GarageQual- No Garage     \n",
    "#GarageFinish - No Garage   \n",
    "#GarageType - No Garage     "
   ]
  },
  {
   "cell_type": "code",
   "execution_count": 16,
   "id": "20c0e51c",
   "metadata": {},
   "outputs": [
    {
     "name": "stderr",
     "output_type": "stream",
     "text": [
      "C:\\Users\\HP\\AppData\\Local\\Temp/ipykernel_10504/3810978424.py:4: SettingWithCopyWarning: \n",
      "A value is trying to be set on a copy of a slice from a DataFrame.\n",
      "Try using .loc[row_indexer,col_indexer] = value instead\n",
      "\n",
      "See the caveats in the documentation: https://pandas.pydata.org/pandas-docs/stable/user_guide/indexing.html#returning-a-view-versus-a-copy\n",
      "  objectcols[col]=objectcols[col].fillna('NotAvailable')\n"
     ]
    }
   ],
   "source": [
    "# Imputing Missing Values with NotAvaialable using For Loop & Column list\n",
    "garagecols=['GarageCond','GarageQual','GarageFinish','GarageType']\n",
    "for col in garagecols:\n",
    "    objectcols[col]=objectcols[col].fillna('NotAvailable')"
   ]
  },
  {
   "cell_type": "code",
   "execution_count": 17,
   "id": "d51f519e",
   "metadata": {},
   "outputs": [],
   "source": [
    "# As per Data Dictionary NA means the following:\n",
    "#BsmtCond - No Basement\n",
    "#BsmtExposure - No Basement\n",
    "#BsmtQual -- No Basement\n",
    "#BsmtFinType2 - No Basement\n",
    "#BsmtFinType1 - No Basement"
   ]
  },
  {
   "cell_type": "code",
   "execution_count": 18,
   "id": "901f8f84",
   "metadata": {},
   "outputs": [
    {
     "name": "stderr",
     "output_type": "stream",
     "text": [
      "C:\\Users\\HP\\AppData\\Local\\Temp/ipykernel_10504/2248044520.py:5: SettingWithCopyWarning: \n",
      "A value is trying to be set on a copy of a slice from a DataFrame.\n",
      "Try using .loc[row_indexer,col_indexer] = value instead\n",
      "\n",
      "See the caveats in the documentation: https://pandas.pydata.org/pandas-docs/stable/user_guide/indexing.html#returning-a-view-versus-a-copy\n",
      "  objectcols[col]=objectcols[col].fillna('NotAvailable')\n"
     ]
    }
   ],
   "source": [
    "# Imputing Missing Values with NotAvaialable using For Loop & Column list\n",
    "bsmtcols=['BsmtCond','BsmtExposure','BsmtQual','BsmtFinType2',\n",
    "         'BsmtFinType1']\n",
    "for col in bsmtcols:\n",
    "    objectcols[col]=objectcols[col].fillna('NotAvailable')"
   ]
  },
  {
   "cell_type": "code",
   "execution_count": 19,
   "id": "291c01ac",
   "metadata": {},
   "outputs": [
    {
     "data": {
      "text/plain": [
       "None       1742\n",
       "BrkFace     879\n",
       "Stone       249\n",
       "BrkCmn       25\n",
       "NaN          24\n",
       "Name: MasVnrType, dtype: int64"
      ]
     },
     "execution_count": 19,
     "metadata": {},
     "output_type": "execute_result"
    }
   ],
   "source": [
    "objectcols.MasVnrType.value_counts(dropna=False)"
   ]
  },
  {
   "cell_type": "code",
   "execution_count": 20,
   "id": "ce7cf6de",
   "metadata": {},
   "outputs": [
    {
     "name": "stderr",
     "output_type": "stream",
     "text": [
      "C:\\Users\\HP\\AppData\\Local\\Temp/ipykernel_10504/472045114.py:3: SettingWithCopyWarning: \n",
      "A value is trying to be set on a copy of a slice from a DataFrame.\n",
      "Try using .loc[row_indexer,col_indexer] = value instead\n",
      "\n",
      "See the caveats in the documentation: https://pandas.pydata.org/pandas-docs/stable/user_guide/indexing.html#returning-a-view-versus-a-copy\n",
      "  objectcols[col]=objectcols[col].fillna(\n"
     ]
    }
   ],
   "source": [
    "# Imputing NA with Index of Maximum in Value Counts table\n",
    "for col in objectcols:\n",
    "    objectcols[col]=objectcols[col].fillna(\n",
    "    objectcols[col].value_counts().idxmax())"
   ]
  },
  {
   "cell_type": "code",
   "execution_count": 21,
   "id": "eeff1fbf",
   "metadata": {},
   "outputs": [
    {
     "data": {
      "text/plain": [
       "LotFrontage      486\n",
       "GarageYrBlt      159\n",
       "MasVnrArea        23\n",
       "BsmtHalfBath       2\n",
       "BsmtFullBath       2\n",
       "BsmtFinSF2         1\n",
       "GarageCars         1\n",
       "GarageArea         1\n",
       "TotalBsmtSF        1\n",
       "BsmtUnfSF          1\n",
       "BsmtFinSF1         1\n",
       "KitchenAbvGr       0\n",
       "3SsnPorch          0\n",
       "EnclosedPorch      0\n",
       "OpenPorchSF        0\n",
       "WoodDeckSF         0\n",
       "ScreenPorch        0\n",
       "PoolArea           0\n",
       "MiscVal            0\n",
       "MoSold             0\n",
       "Fireplaces         0\n",
       "TotRmsAbvGrd       0\n",
       "Id                 0\n",
       "BedroomAbvGr       0\n",
       "HalfBath           0\n",
       "FullBath           0\n",
       "MSSubClass         0\n",
       "GrLivArea          0\n",
       "LowQualFinSF       0\n",
       "2ndFlrSF           0\n",
       "1stFlrSF           0\n",
       "YearRemodAdd       0\n",
       "YearBuilt          0\n",
       "OverallCond        0\n",
       "OverallQual        0\n",
       "LotArea            0\n",
       "YrSold             0\n",
       "dtype: int64"
      ]
     },
     "execution_count": 21,
     "metadata": {},
     "output_type": "execute_result"
    }
   ],
   "source": [
    "# Check Missing Values in Numeric Columns\n",
    "numericcols.isnull().sum().sort_values(ascending=False)"
   ]
  },
  {
   "cell_type": "code",
   "execution_count": 22,
   "id": "37b055f8",
   "metadata": {
    "scrolled": true
   },
   "outputs": [
    {
     "data": {
      "text/html": [
       "<div>\n",
       "<style scoped>\n",
       "    .dataframe tbody tr th:only-of-type {\n",
       "        vertical-align: middle;\n",
       "    }\n",
       "\n",
       "    .dataframe tbody tr th {\n",
       "        vertical-align: top;\n",
       "    }\n",
       "\n",
       "    .dataframe thead th {\n",
       "        text-align: right;\n",
       "    }\n",
       "</style>\n",
       "<table border=\"1\" class=\"dataframe\">\n",
       "  <thead>\n",
       "    <tr style=\"text-align: right;\">\n",
       "      <th></th>\n",
       "      <th>Id</th>\n",
       "      <th>MSSubClass</th>\n",
       "      <th>LotFrontage</th>\n",
       "      <th>LotArea</th>\n",
       "      <th>OverallQual</th>\n",
       "      <th>OverallCond</th>\n",
       "      <th>YearBuilt</th>\n",
       "      <th>YearRemodAdd</th>\n",
       "      <th>MasVnrArea</th>\n",
       "      <th>BsmtFinSF1</th>\n",
       "      <th>...</th>\n",
       "      <th>GarageArea</th>\n",
       "      <th>WoodDeckSF</th>\n",
       "      <th>OpenPorchSF</th>\n",
       "      <th>EnclosedPorch</th>\n",
       "      <th>3SsnPorch</th>\n",
       "      <th>ScreenPorch</th>\n",
       "      <th>PoolArea</th>\n",
       "      <th>MiscVal</th>\n",
       "      <th>MoSold</th>\n",
       "      <th>YrSold</th>\n",
       "    </tr>\n",
       "  </thead>\n",
       "  <tbody>\n",
       "    <tr>\n",
       "      <th>count</th>\n",
       "      <td>2919.000000</td>\n",
       "      <td>2919.000000</td>\n",
       "      <td>2433.000000</td>\n",
       "      <td>2919.000000</td>\n",
       "      <td>2919.000000</td>\n",
       "      <td>2919.000000</td>\n",
       "      <td>2919.000000</td>\n",
       "      <td>2919.000000</td>\n",
       "      <td>2896.000000</td>\n",
       "      <td>2918.000000</td>\n",
       "      <td>...</td>\n",
       "      <td>2918.000000</td>\n",
       "      <td>2919.000000</td>\n",
       "      <td>2919.000000</td>\n",
       "      <td>2919.000000</td>\n",
       "      <td>2919.000000</td>\n",
       "      <td>2919.000000</td>\n",
       "      <td>2919.000000</td>\n",
       "      <td>2919.000000</td>\n",
       "      <td>2919.000000</td>\n",
       "      <td>2919.000000</td>\n",
       "    </tr>\n",
       "    <tr>\n",
       "      <th>mean</th>\n",
       "      <td>1460.000000</td>\n",
       "      <td>57.137718</td>\n",
       "      <td>69.305795</td>\n",
       "      <td>10168.114080</td>\n",
       "      <td>6.089072</td>\n",
       "      <td>5.564577</td>\n",
       "      <td>1971.312778</td>\n",
       "      <td>1984.264474</td>\n",
       "      <td>102.201312</td>\n",
       "      <td>441.423235</td>\n",
       "      <td>...</td>\n",
       "      <td>472.874572</td>\n",
       "      <td>93.709832</td>\n",
       "      <td>47.486811</td>\n",
       "      <td>23.098321</td>\n",
       "      <td>2.602261</td>\n",
       "      <td>16.062350</td>\n",
       "      <td>2.251799</td>\n",
       "      <td>50.825968</td>\n",
       "      <td>6.213087</td>\n",
       "      <td>2007.792737</td>\n",
       "    </tr>\n",
       "    <tr>\n",
       "      <th>std</th>\n",
       "      <td>842.787043</td>\n",
       "      <td>42.517628</td>\n",
       "      <td>23.344905</td>\n",
       "      <td>7886.996359</td>\n",
       "      <td>1.409947</td>\n",
       "      <td>1.113131</td>\n",
       "      <td>30.291442</td>\n",
       "      <td>20.894344</td>\n",
       "      <td>179.334253</td>\n",
       "      <td>455.610826</td>\n",
       "      <td>...</td>\n",
       "      <td>215.394815</td>\n",
       "      <td>126.526589</td>\n",
       "      <td>67.575493</td>\n",
       "      <td>64.244246</td>\n",
       "      <td>25.188169</td>\n",
       "      <td>56.184365</td>\n",
       "      <td>35.663946</td>\n",
       "      <td>567.402211</td>\n",
       "      <td>2.714762</td>\n",
       "      <td>1.314964</td>\n",
       "    </tr>\n",
       "    <tr>\n",
       "      <th>min</th>\n",
       "      <td>1.000000</td>\n",
       "      <td>20.000000</td>\n",
       "      <td>21.000000</td>\n",
       "      <td>1300.000000</td>\n",
       "      <td>1.000000</td>\n",
       "      <td>1.000000</td>\n",
       "      <td>1872.000000</td>\n",
       "      <td>1950.000000</td>\n",
       "      <td>0.000000</td>\n",
       "      <td>0.000000</td>\n",
       "      <td>...</td>\n",
       "      <td>0.000000</td>\n",
       "      <td>0.000000</td>\n",
       "      <td>0.000000</td>\n",
       "      <td>0.000000</td>\n",
       "      <td>0.000000</td>\n",
       "      <td>0.000000</td>\n",
       "      <td>0.000000</td>\n",
       "      <td>0.000000</td>\n",
       "      <td>1.000000</td>\n",
       "      <td>2006.000000</td>\n",
       "    </tr>\n",
       "    <tr>\n",
       "      <th>25%</th>\n",
       "      <td>730.500000</td>\n",
       "      <td>20.000000</td>\n",
       "      <td>59.000000</td>\n",
       "      <td>7478.000000</td>\n",
       "      <td>5.000000</td>\n",
       "      <td>5.000000</td>\n",
       "      <td>1953.500000</td>\n",
       "      <td>1965.000000</td>\n",
       "      <td>0.000000</td>\n",
       "      <td>0.000000</td>\n",
       "      <td>...</td>\n",
       "      <td>320.000000</td>\n",
       "      <td>0.000000</td>\n",
       "      <td>0.000000</td>\n",
       "      <td>0.000000</td>\n",
       "      <td>0.000000</td>\n",
       "      <td>0.000000</td>\n",
       "      <td>0.000000</td>\n",
       "      <td>0.000000</td>\n",
       "      <td>4.000000</td>\n",
       "      <td>2007.000000</td>\n",
       "    </tr>\n",
       "    <tr>\n",
       "      <th>50%</th>\n",
       "      <td>1460.000000</td>\n",
       "      <td>50.000000</td>\n",
       "      <td>68.000000</td>\n",
       "      <td>9453.000000</td>\n",
       "      <td>6.000000</td>\n",
       "      <td>5.000000</td>\n",
       "      <td>1973.000000</td>\n",
       "      <td>1993.000000</td>\n",
       "      <td>0.000000</td>\n",
       "      <td>368.500000</td>\n",
       "      <td>...</td>\n",
       "      <td>480.000000</td>\n",
       "      <td>0.000000</td>\n",
       "      <td>26.000000</td>\n",
       "      <td>0.000000</td>\n",
       "      <td>0.000000</td>\n",
       "      <td>0.000000</td>\n",
       "      <td>0.000000</td>\n",
       "      <td>0.000000</td>\n",
       "      <td>6.000000</td>\n",
       "      <td>2008.000000</td>\n",
       "    </tr>\n",
       "    <tr>\n",
       "      <th>75%</th>\n",
       "      <td>2189.500000</td>\n",
       "      <td>70.000000</td>\n",
       "      <td>80.000000</td>\n",
       "      <td>11570.000000</td>\n",
       "      <td>7.000000</td>\n",
       "      <td>6.000000</td>\n",
       "      <td>2001.000000</td>\n",
       "      <td>2004.000000</td>\n",
       "      <td>164.000000</td>\n",
       "      <td>733.000000</td>\n",
       "      <td>...</td>\n",
       "      <td>576.000000</td>\n",
       "      <td>168.000000</td>\n",
       "      <td>70.000000</td>\n",
       "      <td>0.000000</td>\n",
       "      <td>0.000000</td>\n",
       "      <td>0.000000</td>\n",
       "      <td>0.000000</td>\n",
       "      <td>0.000000</td>\n",
       "      <td>8.000000</td>\n",
       "      <td>2009.000000</td>\n",
       "    </tr>\n",
       "    <tr>\n",
       "      <th>max</th>\n",
       "      <td>2919.000000</td>\n",
       "      <td>190.000000</td>\n",
       "      <td>313.000000</td>\n",
       "      <td>215245.000000</td>\n",
       "      <td>10.000000</td>\n",
       "      <td>9.000000</td>\n",
       "      <td>2010.000000</td>\n",
       "      <td>2010.000000</td>\n",
       "      <td>1600.000000</td>\n",
       "      <td>5644.000000</td>\n",
       "      <td>...</td>\n",
       "      <td>1488.000000</td>\n",
       "      <td>1424.000000</td>\n",
       "      <td>742.000000</td>\n",
       "      <td>1012.000000</td>\n",
       "      <td>508.000000</td>\n",
       "      <td>576.000000</td>\n",
       "      <td>800.000000</td>\n",
       "      <td>17000.000000</td>\n",
       "      <td>12.000000</td>\n",
       "      <td>2010.000000</td>\n",
       "    </tr>\n",
       "  </tbody>\n",
       "</table>\n",
       "<p>8 rows × 37 columns</p>\n",
       "</div>"
      ],
      "text/plain": [
       "                Id   MSSubClass  LotFrontage        LotArea  OverallQual  \\\n",
       "count  2919.000000  2919.000000  2433.000000    2919.000000  2919.000000   \n",
       "mean   1460.000000    57.137718    69.305795   10168.114080     6.089072   \n",
       "std     842.787043    42.517628    23.344905    7886.996359     1.409947   \n",
       "min       1.000000    20.000000    21.000000    1300.000000     1.000000   \n",
       "25%     730.500000    20.000000    59.000000    7478.000000     5.000000   \n",
       "50%    1460.000000    50.000000    68.000000    9453.000000     6.000000   \n",
       "75%    2189.500000    70.000000    80.000000   11570.000000     7.000000   \n",
       "max    2919.000000   190.000000   313.000000  215245.000000    10.000000   \n",
       "\n",
       "       OverallCond    YearBuilt  YearRemodAdd   MasVnrArea   BsmtFinSF1  ...  \\\n",
       "count  2919.000000  2919.000000   2919.000000  2896.000000  2918.000000  ...   \n",
       "mean      5.564577  1971.312778   1984.264474   102.201312   441.423235  ...   \n",
       "std       1.113131    30.291442     20.894344   179.334253   455.610826  ...   \n",
       "min       1.000000  1872.000000   1950.000000     0.000000     0.000000  ...   \n",
       "25%       5.000000  1953.500000   1965.000000     0.000000     0.000000  ...   \n",
       "50%       5.000000  1973.000000   1993.000000     0.000000   368.500000  ...   \n",
       "75%       6.000000  2001.000000   2004.000000   164.000000   733.000000  ...   \n",
       "max       9.000000  2010.000000   2010.000000  1600.000000  5644.000000  ...   \n",
       "\n",
       "        GarageArea   WoodDeckSF  OpenPorchSF  EnclosedPorch    3SsnPorch  \\\n",
       "count  2918.000000  2919.000000  2919.000000    2919.000000  2919.000000   \n",
       "mean    472.874572    93.709832    47.486811      23.098321     2.602261   \n",
       "std     215.394815   126.526589    67.575493      64.244246    25.188169   \n",
       "min       0.000000     0.000000     0.000000       0.000000     0.000000   \n",
       "25%     320.000000     0.000000     0.000000       0.000000     0.000000   \n",
       "50%     480.000000     0.000000    26.000000       0.000000     0.000000   \n",
       "75%     576.000000   168.000000    70.000000       0.000000     0.000000   \n",
       "max    1488.000000  1424.000000   742.000000    1012.000000   508.000000   \n",
       "\n",
       "       ScreenPorch     PoolArea       MiscVal       MoSold       YrSold  \n",
       "count  2919.000000  2919.000000   2919.000000  2919.000000  2919.000000  \n",
       "mean     16.062350     2.251799     50.825968     6.213087  2007.792737  \n",
       "std      56.184365    35.663946    567.402211     2.714762     1.314964  \n",
       "min       0.000000     0.000000      0.000000     1.000000  2006.000000  \n",
       "25%       0.000000     0.000000      0.000000     4.000000  2007.000000  \n",
       "50%       0.000000     0.000000      0.000000     6.000000  2008.000000  \n",
       "75%       0.000000     0.000000      0.000000     8.000000  2009.000000  \n",
       "max     576.000000   800.000000  17000.000000    12.000000  2010.000000  \n",
       "\n",
       "[8 rows x 37 columns]"
      ]
     },
     "execution_count": 22,
     "metadata": {},
     "output_type": "execute_result"
    }
   ],
   "source": [
    "# Check for both Mean & Median (50% or Q2)\n",
    "numericcols.describe()"
   ]
  },
  {
   "cell_type": "code",
   "execution_count": 23,
   "id": "894e23b6",
   "metadata": {},
   "outputs": [
    {
     "name": "stderr",
     "output_type": "stream",
     "text": [
      "C:\\ProgramData\\Anaconda3\\lib\\site-packages\\pandas\\core\\generic.py:5516: SettingWithCopyWarning: \n",
      "A value is trying to be set on a copy of a slice from a DataFrame.\n",
      "Try using .loc[row_indexer,col_indexer] = value instead\n",
      "\n",
      "See the caveats in the documentation: https://pandas.pydata.org/pandas-docs/stable/user_guide/indexing.html#returning-a-view-versus-a-copy\n",
      "  self[name] = value\n"
     ]
    }
   ],
   "source": [
    "# Impute GarageYrBlt with missing code - 9999\n",
    "numericcols.GarageYrBlt=numericcols.GarageYrBlt.fillna(9999)"
   ]
  },
  {
   "cell_type": "code",
   "execution_count": 24,
   "id": "d7bdd234",
   "metadata": {},
   "outputs": [
    {
     "name": "stderr",
     "output_type": "stream",
     "text": [
      "C:\\Users\\HP\\AppData\\Local\\Temp/ipykernel_10504/1137954503.py:4: SettingWithCopyWarning: \n",
      "A value is trying to be set on a copy of a slice from a DataFrame.\n",
      "Try using .loc[row_indexer,col_indexer] = value instead\n",
      "\n",
      "See the caveats in the documentation: https://pandas.pydata.org/pandas-docs/stable/user_guide/indexing.html#returning-a-view-versus-a-copy\n",
      "  numericcols[col]=numericcols[col].fillna(\n"
     ]
    }
   ],
   "source": [
    "# Imputed all missing values in numeric columns with median of respective\n",
    "#columns\n",
    "for col in numericcols:\n",
    "    numericcols[col]=numericcols[col].fillna(\n",
    "    numericcols[col].median())"
   ]
  },
  {
   "cell_type": "code",
   "execution_count": 25,
   "id": "66ecb45c",
   "metadata": {},
   "outputs": [
    {
     "data": {
      "text/plain": [
       "Index(['Id', 'MSSubClass', 'LotFrontage', 'LotArea', 'OverallQual',\n",
       "       'OverallCond', 'YearBuilt', 'YearRemodAdd', 'MasVnrArea', 'BsmtFinSF1',\n",
       "       'BsmtFinSF2', 'BsmtUnfSF', 'TotalBsmtSF', '1stFlrSF', '2ndFlrSF',\n",
       "       'LowQualFinSF', 'GrLivArea', 'BsmtFullBath', 'BsmtHalfBath', 'FullBath',\n",
       "       'HalfBath', 'BedroomAbvGr', 'KitchenAbvGr', 'TotRmsAbvGrd',\n",
       "       'Fireplaces', 'GarageYrBlt', 'GarageCars', 'GarageArea', 'WoodDeckSF',\n",
       "       'OpenPorchSF', 'EnclosedPorch', '3SsnPorch', 'ScreenPorch', 'PoolArea',\n",
       "       'MiscVal', 'MoSold', 'YrSold'],\n",
       "      dtype='object')"
      ]
     },
     "execution_count": 25,
     "metadata": {},
     "output_type": "execute_result"
    }
   ],
   "source": [
    "# Identify Categorical Columns from Numeric Columns. Columns like year,\n",
    "# rating, etc.\n",
    "numericcols.columns"
   ]
  },
  {
   "cell_type": "code",
   "execution_count": 26,
   "id": "cc86387b",
   "metadata": {},
   "outputs": [
    {
     "name": "stdout",
     "output_type": "stream",
     "text": [
      "<class 'pandas.core.frame.DataFrame'>\n",
      "Int64Index: 2919 entries, 0 to 1458\n",
      "Data columns (total 37 columns):\n",
      " #   Column         Non-Null Count  Dtype  \n",
      "---  ------         --------------  -----  \n",
      " 0   Id             2919 non-null   int64  \n",
      " 1   MSSubClass     2919 non-null   int64  \n",
      " 2   LotFrontage    2919 non-null   float64\n",
      " 3   LotArea        2919 non-null   int64  \n",
      " 4   OverallQual    2919 non-null   int64  \n",
      " 5   OverallCond    2919 non-null   int64  \n",
      " 6   YearBuilt      2919 non-null   int64  \n",
      " 7   YearRemodAdd   2919 non-null   int64  \n",
      " 8   MasVnrArea     2919 non-null   float64\n",
      " 9   BsmtFinSF1     2919 non-null   float64\n",
      " 10  BsmtFinSF2     2919 non-null   float64\n",
      " 11  BsmtUnfSF      2919 non-null   float64\n",
      " 12  TotalBsmtSF    2919 non-null   float64\n",
      " 13  1stFlrSF       2919 non-null   int64  \n",
      " 14  2ndFlrSF       2919 non-null   int64  \n",
      " 15  LowQualFinSF   2919 non-null   int64  \n",
      " 16  GrLivArea      2919 non-null   int64  \n",
      " 17  BsmtFullBath   2919 non-null   float64\n",
      " 18  BsmtHalfBath   2919 non-null   float64\n",
      " 19  FullBath       2919 non-null   int64  \n",
      " 20  HalfBath       2919 non-null   int64  \n",
      " 21  BedroomAbvGr   2919 non-null   int64  \n",
      " 22  KitchenAbvGr   2919 non-null   int64  \n",
      " 23  TotRmsAbvGrd   2919 non-null   int64  \n",
      " 24  Fireplaces     2919 non-null   int64  \n",
      " 25  GarageYrBlt    2919 non-null   float64\n",
      " 26  GarageCars     2919 non-null   float64\n",
      " 27  GarageArea     2919 non-null   float64\n",
      " 28  WoodDeckSF     2919 non-null   int64  \n",
      " 29  OpenPorchSF    2919 non-null   int64  \n",
      " 30  EnclosedPorch  2919 non-null   int64  \n",
      " 31  3SsnPorch      2919 non-null   int64  \n",
      " 32  ScreenPorch    2919 non-null   int64  \n",
      " 33  PoolArea       2919 non-null   int64  \n",
      " 34  MiscVal        2919 non-null   int64  \n",
      " 35  MoSold         2919 non-null   int64  \n",
      " 36  YrSold         2919 non-null   int64  \n",
      "dtypes: float64(11), int64(26)\n",
      "memory usage: 866.6 KB\n"
     ]
    }
   ],
   "source": [
    "numericcols.info()"
   ]
  },
  {
   "cell_type": "code",
   "execution_count": 27,
   "id": "cbf791ec",
   "metadata": {},
   "outputs": [],
   "source": [
    "# Seperated Cateorical Columns from Numeric Columns\n",
    "categorycols=numericcols[['OverallQual','OverallCond', 'YearBuilt', \n",
    "                          'YearRemodAdd','GarageYrBlt','MoSold', \n",
    "                          'YrSold']]"
   ]
  },
  {
   "cell_type": "code",
   "execution_count": 28,
   "id": "a671ad2d",
   "metadata": {},
   "outputs": [
    {
     "name": "stdout",
     "output_type": "stream",
     "text": [
      "<class 'pandas.core.frame.DataFrame'>\n",
      "Int64Index: 2919 entries, 0 to 1458\n",
      "Data columns (total 7 columns):\n",
      " #   Column        Non-Null Count  Dtype  \n",
      "---  ------        --------------  -----  \n",
      " 0   OverallQual   2919 non-null   int64  \n",
      " 1   OverallCond   2919 non-null   int64  \n",
      " 2   YearBuilt     2919 non-null   int64  \n",
      " 3   YearRemodAdd  2919 non-null   int64  \n",
      " 4   GarageYrBlt   2919 non-null   float64\n",
      " 5   MoSold        2919 non-null   int64  \n",
      " 6   YrSold        2919 non-null   int64  \n",
      "dtypes: float64(1), int64(6)\n",
      "memory usage: 182.4 KB\n"
     ]
    }
   ],
   "source": [
    "categorycols.info()"
   ]
  },
  {
   "cell_type": "code",
   "execution_count": 29,
   "id": "b2bf2866",
   "metadata": {},
   "outputs": [],
   "source": [
    "# Immediately dropped the above columns from numeric columns to prevent\n",
    "# duplication\n",
    "numericcols=numericcols.drop(['OverallQual','OverallCond', 'YearBuilt', \n",
    "                          'YearRemodAdd','GarageYrBlt','MoSold', \n",
    "                          'YrSold'],axis=1)"
   ]
  },
  {
   "cell_type": "code",
   "execution_count": 30,
   "id": "2aa55b4b",
   "metadata": {},
   "outputs": [
    {
     "name": "stdout",
     "output_type": "stream",
     "text": [
      "(2919, 44)\n",
      "(2919, 30)\n",
      "(2919, 7)\n"
     ]
    }
   ],
   "source": [
    "print(objectcols.shape)\n",
    "print(numericcols.shape)\n",
    "print(categorycols.shape)\n",
    "# Number of Object Columns - 44\n",
    "# Number of Numeric Columns - 30\n",
    "# Number of Categorical Columns - 7"
   ]
  },
  {
   "cell_type": "code",
   "execution_count": 31,
   "id": "3719ac78",
   "metadata": {},
   "outputs": [],
   "source": [
    "# Added SalePrice Column to Numerical Data which was in Object Data\n",
    "numericcols['SalePrice']=objectcols.SalePrice"
   ]
  },
  {
   "cell_type": "code",
   "execution_count": 32,
   "id": "8e6c67ab",
   "metadata": {},
   "outputs": [
    {
     "data": {
      "text/html": [
       "<div>\n",
       "<style scoped>\n",
       "    .dataframe tbody tr th:only-of-type {\n",
       "        vertical-align: middle;\n",
       "    }\n",
       "\n",
       "    .dataframe tbody tr th {\n",
       "        vertical-align: top;\n",
       "    }\n",
       "\n",
       "    .dataframe thead th {\n",
       "        text-align: right;\n",
       "    }\n",
       "</style>\n",
       "<table border=\"1\" class=\"dataframe\">\n",
       "  <thead>\n",
       "    <tr style=\"text-align: right;\">\n",
       "      <th></th>\n",
       "      <th>Id</th>\n",
       "      <th>MSSubClass</th>\n",
       "      <th>LotFrontage</th>\n",
       "      <th>LotArea</th>\n",
       "      <th>MasVnrArea</th>\n",
       "      <th>BsmtFinSF1</th>\n",
       "      <th>BsmtFinSF2</th>\n",
       "      <th>BsmtUnfSF</th>\n",
       "      <th>TotalBsmtSF</th>\n",
       "      <th>1stFlrSF</th>\n",
       "      <th>...</th>\n",
       "      <th>GarageCars</th>\n",
       "      <th>GarageArea</th>\n",
       "      <th>WoodDeckSF</th>\n",
       "      <th>OpenPorchSF</th>\n",
       "      <th>EnclosedPorch</th>\n",
       "      <th>3SsnPorch</th>\n",
       "      <th>ScreenPorch</th>\n",
       "      <th>PoolArea</th>\n",
       "      <th>MiscVal</th>\n",
       "      <th>SalePrice</th>\n",
       "    </tr>\n",
       "  </thead>\n",
       "  <tbody>\n",
       "    <tr>\n",
       "      <th>0</th>\n",
       "      <td>1</td>\n",
       "      <td>60</td>\n",
       "      <td>65.0</td>\n",
       "      <td>8450</td>\n",
       "      <td>196.0</td>\n",
       "      <td>706.0</td>\n",
       "      <td>0.0</td>\n",
       "      <td>150.0</td>\n",
       "      <td>856.0</td>\n",
       "      <td>856</td>\n",
       "      <td>...</td>\n",
       "      <td>2.0</td>\n",
       "      <td>548.0</td>\n",
       "      <td>0</td>\n",
       "      <td>61</td>\n",
       "      <td>0</td>\n",
       "      <td>0</td>\n",
       "      <td>0</td>\n",
       "      <td>0</td>\n",
       "      <td>0</td>\n",
       "      <td>208500</td>\n",
       "    </tr>\n",
       "    <tr>\n",
       "      <th>1</th>\n",
       "      <td>2</td>\n",
       "      <td>20</td>\n",
       "      <td>80.0</td>\n",
       "      <td>9600</td>\n",
       "      <td>0.0</td>\n",
       "      <td>978.0</td>\n",
       "      <td>0.0</td>\n",
       "      <td>284.0</td>\n",
       "      <td>1262.0</td>\n",
       "      <td>1262</td>\n",
       "      <td>...</td>\n",
       "      <td>2.0</td>\n",
       "      <td>460.0</td>\n",
       "      <td>298</td>\n",
       "      <td>0</td>\n",
       "      <td>0</td>\n",
       "      <td>0</td>\n",
       "      <td>0</td>\n",
       "      <td>0</td>\n",
       "      <td>0</td>\n",
       "      <td>181500</td>\n",
       "    </tr>\n",
       "    <tr>\n",
       "      <th>2</th>\n",
       "      <td>3</td>\n",
       "      <td>60</td>\n",
       "      <td>68.0</td>\n",
       "      <td>11250</td>\n",
       "      <td>162.0</td>\n",
       "      <td>486.0</td>\n",
       "      <td>0.0</td>\n",
       "      <td>434.0</td>\n",
       "      <td>920.0</td>\n",
       "      <td>920</td>\n",
       "      <td>...</td>\n",
       "      <td>2.0</td>\n",
       "      <td>608.0</td>\n",
       "      <td>0</td>\n",
       "      <td>42</td>\n",
       "      <td>0</td>\n",
       "      <td>0</td>\n",
       "      <td>0</td>\n",
       "      <td>0</td>\n",
       "      <td>0</td>\n",
       "      <td>223500</td>\n",
       "    </tr>\n",
       "    <tr>\n",
       "      <th>3</th>\n",
       "      <td>4</td>\n",
       "      <td>70</td>\n",
       "      <td>60.0</td>\n",
       "      <td>9550</td>\n",
       "      <td>0.0</td>\n",
       "      <td>216.0</td>\n",
       "      <td>0.0</td>\n",
       "      <td>540.0</td>\n",
       "      <td>756.0</td>\n",
       "      <td>961</td>\n",
       "      <td>...</td>\n",
       "      <td>3.0</td>\n",
       "      <td>642.0</td>\n",
       "      <td>0</td>\n",
       "      <td>35</td>\n",
       "      <td>272</td>\n",
       "      <td>0</td>\n",
       "      <td>0</td>\n",
       "      <td>0</td>\n",
       "      <td>0</td>\n",
       "      <td>140000</td>\n",
       "    </tr>\n",
       "    <tr>\n",
       "      <th>4</th>\n",
       "      <td>5</td>\n",
       "      <td>60</td>\n",
       "      <td>84.0</td>\n",
       "      <td>14260</td>\n",
       "      <td>350.0</td>\n",
       "      <td>655.0</td>\n",
       "      <td>0.0</td>\n",
       "      <td>490.0</td>\n",
       "      <td>1145.0</td>\n",
       "      <td>1145</td>\n",
       "      <td>...</td>\n",
       "      <td>3.0</td>\n",
       "      <td>836.0</td>\n",
       "      <td>192</td>\n",
       "      <td>84</td>\n",
       "      <td>0</td>\n",
       "      <td>0</td>\n",
       "      <td>0</td>\n",
       "      <td>0</td>\n",
       "      <td>0</td>\n",
       "      <td>250000</td>\n",
       "    </tr>\n",
       "    <tr>\n",
       "      <th>...</th>\n",
       "      <td>...</td>\n",
       "      <td>...</td>\n",
       "      <td>...</td>\n",
       "      <td>...</td>\n",
       "      <td>...</td>\n",
       "      <td>...</td>\n",
       "      <td>...</td>\n",
       "      <td>...</td>\n",
       "      <td>...</td>\n",
       "      <td>...</td>\n",
       "      <td>...</td>\n",
       "      <td>...</td>\n",
       "      <td>...</td>\n",
       "      <td>...</td>\n",
       "      <td>...</td>\n",
       "      <td>...</td>\n",
       "      <td>...</td>\n",
       "      <td>...</td>\n",
       "      <td>...</td>\n",
       "      <td>...</td>\n",
       "      <td>...</td>\n",
       "    </tr>\n",
       "    <tr>\n",
       "      <th>1454</th>\n",
       "      <td>2915</td>\n",
       "      <td>160</td>\n",
       "      <td>21.0</td>\n",
       "      <td>1936</td>\n",
       "      <td>0.0</td>\n",
       "      <td>0.0</td>\n",
       "      <td>0.0</td>\n",
       "      <td>546.0</td>\n",
       "      <td>546.0</td>\n",
       "      <td>546</td>\n",
       "      <td>...</td>\n",
       "      <td>0.0</td>\n",
       "      <td>0.0</td>\n",
       "      <td>0</td>\n",
       "      <td>0</td>\n",
       "      <td>0</td>\n",
       "      <td>0</td>\n",
       "      <td>0</td>\n",
       "      <td>0</td>\n",
       "      <td>0</td>\n",
       "      <td>test</td>\n",
       "    </tr>\n",
       "    <tr>\n",
       "      <th>1455</th>\n",
       "      <td>2916</td>\n",
       "      <td>160</td>\n",
       "      <td>21.0</td>\n",
       "      <td>1894</td>\n",
       "      <td>0.0</td>\n",
       "      <td>252.0</td>\n",
       "      <td>0.0</td>\n",
       "      <td>294.0</td>\n",
       "      <td>546.0</td>\n",
       "      <td>546</td>\n",
       "      <td>...</td>\n",
       "      <td>1.0</td>\n",
       "      <td>286.0</td>\n",
       "      <td>0</td>\n",
       "      <td>24</td>\n",
       "      <td>0</td>\n",
       "      <td>0</td>\n",
       "      <td>0</td>\n",
       "      <td>0</td>\n",
       "      <td>0</td>\n",
       "      <td>test</td>\n",
       "    </tr>\n",
       "    <tr>\n",
       "      <th>1456</th>\n",
       "      <td>2917</td>\n",
       "      <td>20</td>\n",
       "      <td>160.0</td>\n",
       "      <td>20000</td>\n",
       "      <td>0.0</td>\n",
       "      <td>1224.0</td>\n",
       "      <td>0.0</td>\n",
       "      <td>0.0</td>\n",
       "      <td>1224.0</td>\n",
       "      <td>1224</td>\n",
       "      <td>...</td>\n",
       "      <td>2.0</td>\n",
       "      <td>576.0</td>\n",
       "      <td>474</td>\n",
       "      <td>0</td>\n",
       "      <td>0</td>\n",
       "      <td>0</td>\n",
       "      <td>0</td>\n",
       "      <td>0</td>\n",
       "      <td>0</td>\n",
       "      <td>test</td>\n",
       "    </tr>\n",
       "    <tr>\n",
       "      <th>1457</th>\n",
       "      <td>2918</td>\n",
       "      <td>85</td>\n",
       "      <td>62.0</td>\n",
       "      <td>10441</td>\n",
       "      <td>0.0</td>\n",
       "      <td>337.0</td>\n",
       "      <td>0.0</td>\n",
       "      <td>575.0</td>\n",
       "      <td>912.0</td>\n",
       "      <td>970</td>\n",
       "      <td>...</td>\n",
       "      <td>0.0</td>\n",
       "      <td>0.0</td>\n",
       "      <td>80</td>\n",
       "      <td>32</td>\n",
       "      <td>0</td>\n",
       "      <td>0</td>\n",
       "      <td>0</td>\n",
       "      <td>0</td>\n",
       "      <td>700</td>\n",
       "      <td>test</td>\n",
       "    </tr>\n",
       "    <tr>\n",
       "      <th>1458</th>\n",
       "      <td>2919</td>\n",
       "      <td>60</td>\n",
       "      <td>74.0</td>\n",
       "      <td>9627</td>\n",
       "      <td>94.0</td>\n",
       "      <td>758.0</td>\n",
       "      <td>0.0</td>\n",
       "      <td>238.0</td>\n",
       "      <td>996.0</td>\n",
       "      <td>996</td>\n",
       "      <td>...</td>\n",
       "      <td>3.0</td>\n",
       "      <td>650.0</td>\n",
       "      <td>190</td>\n",
       "      <td>48</td>\n",
       "      <td>0</td>\n",
       "      <td>0</td>\n",
       "      <td>0</td>\n",
       "      <td>0</td>\n",
       "      <td>0</td>\n",
       "      <td>test</td>\n",
       "    </tr>\n",
       "  </tbody>\n",
       "</table>\n",
       "<p>2919 rows × 31 columns</p>\n",
       "</div>"
      ],
      "text/plain": [
       "        Id  MSSubClass  LotFrontage  LotArea  MasVnrArea  BsmtFinSF1  \\\n",
       "0        1          60         65.0     8450       196.0       706.0   \n",
       "1        2          20         80.0     9600         0.0       978.0   \n",
       "2        3          60         68.0    11250       162.0       486.0   \n",
       "3        4          70         60.0     9550         0.0       216.0   \n",
       "4        5          60         84.0    14260       350.0       655.0   \n",
       "...    ...         ...          ...      ...         ...         ...   \n",
       "1454  2915         160         21.0     1936         0.0         0.0   \n",
       "1455  2916         160         21.0     1894         0.0       252.0   \n",
       "1456  2917          20        160.0    20000         0.0      1224.0   \n",
       "1457  2918          85         62.0    10441         0.0       337.0   \n",
       "1458  2919          60         74.0     9627        94.0       758.0   \n",
       "\n",
       "      BsmtFinSF2  BsmtUnfSF  TotalBsmtSF  1stFlrSF  ...  GarageCars  \\\n",
       "0            0.0      150.0        856.0       856  ...         2.0   \n",
       "1            0.0      284.0       1262.0      1262  ...         2.0   \n",
       "2            0.0      434.0        920.0       920  ...         2.0   \n",
       "3            0.0      540.0        756.0       961  ...         3.0   \n",
       "4            0.0      490.0       1145.0      1145  ...         3.0   \n",
       "...          ...        ...          ...       ...  ...         ...   \n",
       "1454         0.0      546.0        546.0       546  ...         0.0   \n",
       "1455         0.0      294.0        546.0       546  ...         1.0   \n",
       "1456         0.0        0.0       1224.0      1224  ...         2.0   \n",
       "1457         0.0      575.0        912.0       970  ...         0.0   \n",
       "1458         0.0      238.0        996.0       996  ...         3.0   \n",
       "\n",
       "      GarageArea  WoodDeckSF  OpenPorchSF  EnclosedPorch  3SsnPorch  \\\n",
       "0          548.0           0           61              0          0   \n",
       "1          460.0         298            0              0          0   \n",
       "2          608.0           0           42              0          0   \n",
       "3          642.0           0           35            272          0   \n",
       "4          836.0         192           84              0          0   \n",
       "...          ...         ...          ...            ...        ...   \n",
       "1454         0.0           0            0              0          0   \n",
       "1455       286.0           0           24              0          0   \n",
       "1456       576.0         474            0              0          0   \n",
       "1457         0.0          80           32              0          0   \n",
       "1458       650.0         190           48              0          0   \n",
       "\n",
       "      ScreenPorch  PoolArea  MiscVal  SalePrice  \n",
       "0               0         0        0     208500  \n",
       "1               0         0        0     181500  \n",
       "2               0         0        0     223500  \n",
       "3               0         0        0     140000  \n",
       "4               0         0        0     250000  \n",
       "...           ...       ...      ...        ...  \n",
       "1454            0         0        0       test  \n",
       "1455            0         0        0       test  \n",
       "1456            0         0        0       test  \n",
       "1457            0         0      700       test  \n",
       "1458            0         0        0       test  \n",
       "\n",
       "[2919 rows x 31 columns]"
      ]
     },
     "execution_count": 32,
     "metadata": {},
     "output_type": "execute_result"
    }
   ],
   "source": [
    "numericcols"
   ]
  },
  {
   "cell_type": "code",
   "execution_count": 33,
   "id": "82982682",
   "metadata": {},
   "outputs": [],
   "source": [
    "from sklearn.preprocessing import LabelEncoder"
   ]
  },
  {
   "cell_type": "code",
   "execution_count": 34,
   "id": "4bbf4552",
   "metadata": {},
   "outputs": [],
   "source": [
    "le=LabelEncoder()"
   ]
  },
  {
   "cell_type": "code",
   "execution_count": 35,
   "id": "c0e02e97",
   "metadata": {},
   "outputs": [],
   "source": [
    "# Drop SalePrice Column from Objectcols as it is added to Numeric Cols\n",
    "objectcols=objectcols.drop('SalePrice',axis=1)"
   ]
  },
  {
   "cell_type": "code",
   "execution_count": 36,
   "id": "d7191875",
   "metadata": {},
   "outputs": [
    {
     "data": {
      "text/html": [
       "<div>\n",
       "<style scoped>\n",
       "    .dataframe tbody tr th:only-of-type {\n",
       "        vertical-align: middle;\n",
       "    }\n",
       "\n",
       "    .dataframe tbody tr th {\n",
       "        vertical-align: top;\n",
       "    }\n",
       "\n",
       "    .dataframe thead th {\n",
       "        text-align: right;\n",
       "    }\n",
       "</style>\n",
       "<table border=\"1\" class=\"dataframe\">\n",
       "  <thead>\n",
       "    <tr style=\"text-align: right;\">\n",
       "      <th></th>\n",
       "      <th>MSZoning</th>\n",
       "      <th>Street</th>\n",
       "      <th>Alley</th>\n",
       "      <th>LotShape</th>\n",
       "      <th>LandContour</th>\n",
       "      <th>Utilities</th>\n",
       "      <th>LotConfig</th>\n",
       "      <th>LandSlope</th>\n",
       "      <th>Neighborhood</th>\n",
       "      <th>Condition1</th>\n",
       "      <th>...</th>\n",
       "      <th>GarageType</th>\n",
       "      <th>GarageFinish</th>\n",
       "      <th>GarageQual</th>\n",
       "      <th>GarageCond</th>\n",
       "      <th>PavedDrive</th>\n",
       "      <th>PoolQC</th>\n",
       "      <th>Fence</th>\n",
       "      <th>MiscFeature</th>\n",
       "      <th>SaleType</th>\n",
       "      <th>SaleCondition</th>\n",
       "    </tr>\n",
       "  </thead>\n",
       "  <tbody>\n",
       "    <tr>\n",
       "      <th>0</th>\n",
       "      <td>RL</td>\n",
       "      <td>Pave</td>\n",
       "      <td>NotAvailable</td>\n",
       "      <td>Reg</td>\n",
       "      <td>Lvl</td>\n",
       "      <td>AllPub</td>\n",
       "      <td>Inside</td>\n",
       "      <td>Gtl</td>\n",
       "      <td>CollgCr</td>\n",
       "      <td>Norm</td>\n",
       "      <td>...</td>\n",
       "      <td>Attchd</td>\n",
       "      <td>RFn</td>\n",
       "      <td>TA</td>\n",
       "      <td>TA</td>\n",
       "      <td>Y</td>\n",
       "      <td>NotAvailable</td>\n",
       "      <td>NotAvailable</td>\n",
       "      <td>NotAvailable</td>\n",
       "      <td>WD</td>\n",
       "      <td>Normal</td>\n",
       "    </tr>\n",
       "    <tr>\n",
       "      <th>1</th>\n",
       "      <td>RL</td>\n",
       "      <td>Pave</td>\n",
       "      <td>NotAvailable</td>\n",
       "      <td>Reg</td>\n",
       "      <td>Lvl</td>\n",
       "      <td>AllPub</td>\n",
       "      <td>FR2</td>\n",
       "      <td>Gtl</td>\n",
       "      <td>Veenker</td>\n",
       "      <td>Feedr</td>\n",
       "      <td>...</td>\n",
       "      <td>Attchd</td>\n",
       "      <td>RFn</td>\n",
       "      <td>TA</td>\n",
       "      <td>TA</td>\n",
       "      <td>Y</td>\n",
       "      <td>NotAvailable</td>\n",
       "      <td>NotAvailable</td>\n",
       "      <td>NotAvailable</td>\n",
       "      <td>WD</td>\n",
       "      <td>Normal</td>\n",
       "    </tr>\n",
       "    <tr>\n",
       "      <th>2</th>\n",
       "      <td>RL</td>\n",
       "      <td>Pave</td>\n",
       "      <td>NotAvailable</td>\n",
       "      <td>IR1</td>\n",
       "      <td>Lvl</td>\n",
       "      <td>AllPub</td>\n",
       "      <td>Inside</td>\n",
       "      <td>Gtl</td>\n",
       "      <td>CollgCr</td>\n",
       "      <td>Norm</td>\n",
       "      <td>...</td>\n",
       "      <td>Attchd</td>\n",
       "      <td>RFn</td>\n",
       "      <td>TA</td>\n",
       "      <td>TA</td>\n",
       "      <td>Y</td>\n",
       "      <td>NotAvailable</td>\n",
       "      <td>NotAvailable</td>\n",
       "      <td>NotAvailable</td>\n",
       "      <td>WD</td>\n",
       "      <td>Normal</td>\n",
       "    </tr>\n",
       "    <tr>\n",
       "      <th>3</th>\n",
       "      <td>RL</td>\n",
       "      <td>Pave</td>\n",
       "      <td>NotAvailable</td>\n",
       "      <td>IR1</td>\n",
       "      <td>Lvl</td>\n",
       "      <td>AllPub</td>\n",
       "      <td>Corner</td>\n",
       "      <td>Gtl</td>\n",
       "      <td>Crawfor</td>\n",
       "      <td>Norm</td>\n",
       "      <td>...</td>\n",
       "      <td>Detchd</td>\n",
       "      <td>Unf</td>\n",
       "      <td>TA</td>\n",
       "      <td>TA</td>\n",
       "      <td>Y</td>\n",
       "      <td>NotAvailable</td>\n",
       "      <td>NotAvailable</td>\n",
       "      <td>NotAvailable</td>\n",
       "      <td>WD</td>\n",
       "      <td>Abnorml</td>\n",
       "    </tr>\n",
       "    <tr>\n",
       "      <th>4</th>\n",
       "      <td>RL</td>\n",
       "      <td>Pave</td>\n",
       "      <td>NotAvailable</td>\n",
       "      <td>IR1</td>\n",
       "      <td>Lvl</td>\n",
       "      <td>AllPub</td>\n",
       "      <td>FR2</td>\n",
       "      <td>Gtl</td>\n",
       "      <td>NoRidge</td>\n",
       "      <td>Norm</td>\n",
       "      <td>...</td>\n",
       "      <td>Attchd</td>\n",
       "      <td>RFn</td>\n",
       "      <td>TA</td>\n",
       "      <td>TA</td>\n",
       "      <td>Y</td>\n",
       "      <td>NotAvailable</td>\n",
       "      <td>NotAvailable</td>\n",
       "      <td>NotAvailable</td>\n",
       "      <td>WD</td>\n",
       "      <td>Normal</td>\n",
       "    </tr>\n",
       "    <tr>\n",
       "      <th>...</th>\n",
       "      <td>...</td>\n",
       "      <td>...</td>\n",
       "      <td>...</td>\n",
       "      <td>...</td>\n",
       "      <td>...</td>\n",
       "      <td>...</td>\n",
       "      <td>...</td>\n",
       "      <td>...</td>\n",
       "      <td>...</td>\n",
       "      <td>...</td>\n",
       "      <td>...</td>\n",
       "      <td>...</td>\n",
       "      <td>...</td>\n",
       "      <td>...</td>\n",
       "      <td>...</td>\n",
       "      <td>...</td>\n",
       "      <td>...</td>\n",
       "      <td>...</td>\n",
       "      <td>...</td>\n",
       "      <td>...</td>\n",
       "      <td>...</td>\n",
       "    </tr>\n",
       "    <tr>\n",
       "      <th>1454</th>\n",
       "      <td>RM</td>\n",
       "      <td>Pave</td>\n",
       "      <td>NotAvailable</td>\n",
       "      <td>Reg</td>\n",
       "      <td>Lvl</td>\n",
       "      <td>AllPub</td>\n",
       "      <td>Inside</td>\n",
       "      <td>Gtl</td>\n",
       "      <td>MeadowV</td>\n",
       "      <td>Norm</td>\n",
       "      <td>...</td>\n",
       "      <td>NotAvailable</td>\n",
       "      <td>NotAvailable</td>\n",
       "      <td>NotAvailable</td>\n",
       "      <td>NotAvailable</td>\n",
       "      <td>Y</td>\n",
       "      <td>NotAvailable</td>\n",
       "      <td>NotAvailable</td>\n",
       "      <td>NotAvailable</td>\n",
       "      <td>WD</td>\n",
       "      <td>Normal</td>\n",
       "    </tr>\n",
       "    <tr>\n",
       "      <th>1455</th>\n",
       "      <td>RM</td>\n",
       "      <td>Pave</td>\n",
       "      <td>NotAvailable</td>\n",
       "      <td>Reg</td>\n",
       "      <td>Lvl</td>\n",
       "      <td>AllPub</td>\n",
       "      <td>Inside</td>\n",
       "      <td>Gtl</td>\n",
       "      <td>MeadowV</td>\n",
       "      <td>Norm</td>\n",
       "      <td>...</td>\n",
       "      <td>CarPort</td>\n",
       "      <td>Unf</td>\n",
       "      <td>TA</td>\n",
       "      <td>TA</td>\n",
       "      <td>Y</td>\n",
       "      <td>NotAvailable</td>\n",
       "      <td>NotAvailable</td>\n",
       "      <td>NotAvailable</td>\n",
       "      <td>WD</td>\n",
       "      <td>Abnorml</td>\n",
       "    </tr>\n",
       "    <tr>\n",
       "      <th>1456</th>\n",
       "      <td>RL</td>\n",
       "      <td>Pave</td>\n",
       "      <td>NotAvailable</td>\n",
       "      <td>Reg</td>\n",
       "      <td>Lvl</td>\n",
       "      <td>AllPub</td>\n",
       "      <td>Inside</td>\n",
       "      <td>Gtl</td>\n",
       "      <td>Mitchel</td>\n",
       "      <td>Norm</td>\n",
       "      <td>...</td>\n",
       "      <td>Detchd</td>\n",
       "      <td>Unf</td>\n",
       "      <td>TA</td>\n",
       "      <td>TA</td>\n",
       "      <td>Y</td>\n",
       "      <td>NotAvailable</td>\n",
       "      <td>NotAvailable</td>\n",
       "      <td>NotAvailable</td>\n",
       "      <td>WD</td>\n",
       "      <td>Abnorml</td>\n",
       "    </tr>\n",
       "    <tr>\n",
       "      <th>1457</th>\n",
       "      <td>RL</td>\n",
       "      <td>Pave</td>\n",
       "      <td>NotAvailable</td>\n",
       "      <td>Reg</td>\n",
       "      <td>Lvl</td>\n",
       "      <td>AllPub</td>\n",
       "      <td>Inside</td>\n",
       "      <td>Gtl</td>\n",
       "      <td>Mitchel</td>\n",
       "      <td>Norm</td>\n",
       "      <td>...</td>\n",
       "      <td>NotAvailable</td>\n",
       "      <td>NotAvailable</td>\n",
       "      <td>NotAvailable</td>\n",
       "      <td>NotAvailable</td>\n",
       "      <td>Y</td>\n",
       "      <td>NotAvailable</td>\n",
       "      <td>MnPrv</td>\n",
       "      <td>Shed</td>\n",
       "      <td>WD</td>\n",
       "      <td>Normal</td>\n",
       "    </tr>\n",
       "    <tr>\n",
       "      <th>1458</th>\n",
       "      <td>RL</td>\n",
       "      <td>Pave</td>\n",
       "      <td>NotAvailable</td>\n",
       "      <td>Reg</td>\n",
       "      <td>Lvl</td>\n",
       "      <td>AllPub</td>\n",
       "      <td>Inside</td>\n",
       "      <td>Mod</td>\n",
       "      <td>Mitchel</td>\n",
       "      <td>Norm</td>\n",
       "      <td>...</td>\n",
       "      <td>Attchd</td>\n",
       "      <td>Fin</td>\n",
       "      <td>TA</td>\n",
       "      <td>TA</td>\n",
       "      <td>Y</td>\n",
       "      <td>NotAvailable</td>\n",
       "      <td>NotAvailable</td>\n",
       "      <td>NotAvailable</td>\n",
       "      <td>WD</td>\n",
       "      <td>Normal</td>\n",
       "    </tr>\n",
       "  </tbody>\n",
       "</table>\n",
       "<p>2919 rows × 43 columns</p>\n",
       "</div>"
      ],
      "text/plain": [
       "     MSZoning Street         Alley LotShape LandContour Utilities LotConfig  \\\n",
       "0          RL   Pave  NotAvailable      Reg         Lvl    AllPub    Inside   \n",
       "1          RL   Pave  NotAvailable      Reg         Lvl    AllPub       FR2   \n",
       "2          RL   Pave  NotAvailable      IR1         Lvl    AllPub    Inside   \n",
       "3          RL   Pave  NotAvailable      IR1         Lvl    AllPub    Corner   \n",
       "4          RL   Pave  NotAvailable      IR1         Lvl    AllPub       FR2   \n",
       "...       ...    ...           ...      ...         ...       ...       ...   \n",
       "1454       RM   Pave  NotAvailable      Reg         Lvl    AllPub    Inside   \n",
       "1455       RM   Pave  NotAvailable      Reg         Lvl    AllPub    Inside   \n",
       "1456       RL   Pave  NotAvailable      Reg         Lvl    AllPub    Inside   \n",
       "1457       RL   Pave  NotAvailable      Reg         Lvl    AllPub    Inside   \n",
       "1458       RL   Pave  NotAvailable      Reg         Lvl    AllPub    Inside   \n",
       "\n",
       "     LandSlope Neighborhood Condition1  ...    GarageType  GarageFinish  \\\n",
       "0          Gtl      CollgCr       Norm  ...        Attchd           RFn   \n",
       "1          Gtl      Veenker      Feedr  ...        Attchd           RFn   \n",
       "2          Gtl      CollgCr       Norm  ...        Attchd           RFn   \n",
       "3          Gtl      Crawfor       Norm  ...        Detchd           Unf   \n",
       "4          Gtl      NoRidge       Norm  ...        Attchd           RFn   \n",
       "...        ...          ...        ...  ...           ...           ...   \n",
       "1454       Gtl      MeadowV       Norm  ...  NotAvailable  NotAvailable   \n",
       "1455       Gtl      MeadowV       Norm  ...       CarPort           Unf   \n",
       "1456       Gtl      Mitchel       Norm  ...        Detchd           Unf   \n",
       "1457       Gtl      Mitchel       Norm  ...  NotAvailable  NotAvailable   \n",
       "1458       Mod      Mitchel       Norm  ...        Attchd           Fin   \n",
       "\n",
       "        GarageQual    GarageCond PavedDrive        PoolQC         Fence  \\\n",
       "0               TA            TA          Y  NotAvailable  NotAvailable   \n",
       "1               TA            TA          Y  NotAvailable  NotAvailable   \n",
       "2               TA            TA          Y  NotAvailable  NotAvailable   \n",
       "3               TA            TA          Y  NotAvailable  NotAvailable   \n",
       "4               TA            TA          Y  NotAvailable  NotAvailable   \n",
       "...            ...           ...        ...           ...           ...   \n",
       "1454  NotAvailable  NotAvailable          Y  NotAvailable  NotAvailable   \n",
       "1455            TA            TA          Y  NotAvailable  NotAvailable   \n",
       "1456            TA            TA          Y  NotAvailable  NotAvailable   \n",
       "1457  NotAvailable  NotAvailable          Y  NotAvailable         MnPrv   \n",
       "1458            TA            TA          Y  NotAvailable  NotAvailable   \n",
       "\n",
       "       MiscFeature SaleType SaleCondition  \n",
       "0     NotAvailable       WD        Normal  \n",
       "1     NotAvailable       WD        Normal  \n",
       "2     NotAvailable       WD        Normal  \n",
       "3     NotAvailable       WD       Abnorml  \n",
       "4     NotAvailable       WD        Normal  \n",
       "...            ...      ...           ...  \n",
       "1454  NotAvailable       WD        Normal  \n",
       "1455  NotAvailable       WD       Abnorml  \n",
       "1456  NotAvailable       WD       Abnorml  \n",
       "1457          Shed       WD        Normal  \n",
       "1458  NotAvailable       WD        Normal  \n",
       "\n",
       "[2919 rows x 43 columns]"
      ]
     },
     "execution_count": 36,
     "metadata": {},
     "output_type": "execute_result"
    }
   ],
   "source": [
    "objectcols"
   ]
  },
  {
   "cell_type": "code",
   "execution_count": 37,
   "id": "801735cd",
   "metadata": {},
   "outputs": [],
   "source": [
    "# Label Encode or Dummy Varible Encoding of Object Cols\n",
    "objectcolsdummy=objectcols.apply(le.fit_transform)"
   ]
  },
  {
   "cell_type": "code",
   "execution_count": 38,
   "id": "c36fd60f",
   "metadata": {},
   "outputs": [
    {
     "data": {
      "text/html": [
       "<div>\n",
       "<style scoped>\n",
       "    .dataframe tbody tr th:only-of-type {\n",
       "        vertical-align: middle;\n",
       "    }\n",
       "\n",
       "    .dataframe tbody tr th {\n",
       "        vertical-align: top;\n",
       "    }\n",
       "\n",
       "    .dataframe thead th {\n",
       "        text-align: right;\n",
       "    }\n",
       "</style>\n",
       "<table border=\"1\" class=\"dataframe\">\n",
       "  <thead>\n",
       "    <tr style=\"text-align: right;\">\n",
       "      <th></th>\n",
       "      <th>MSZoning</th>\n",
       "      <th>Street</th>\n",
       "      <th>Alley</th>\n",
       "      <th>LotShape</th>\n",
       "      <th>LandContour</th>\n",
       "      <th>Utilities</th>\n",
       "      <th>LotConfig</th>\n",
       "      <th>LandSlope</th>\n",
       "      <th>Neighborhood</th>\n",
       "      <th>Condition1</th>\n",
       "      <th>...</th>\n",
       "      <th>GarageType</th>\n",
       "      <th>GarageFinish</th>\n",
       "      <th>GarageQual</th>\n",
       "      <th>GarageCond</th>\n",
       "      <th>PavedDrive</th>\n",
       "      <th>PoolQC</th>\n",
       "      <th>Fence</th>\n",
       "      <th>MiscFeature</th>\n",
       "      <th>SaleType</th>\n",
       "      <th>SaleCondition</th>\n",
       "    </tr>\n",
       "  </thead>\n",
       "  <tbody>\n",
       "    <tr>\n",
       "      <th>0</th>\n",
       "      <td>3</td>\n",
       "      <td>1</td>\n",
       "      <td>1</td>\n",
       "      <td>3</td>\n",
       "      <td>3</td>\n",
       "      <td>0</td>\n",
       "      <td>4</td>\n",
       "      <td>0</td>\n",
       "      <td>5</td>\n",
       "      <td>2</td>\n",
       "      <td>...</td>\n",
       "      <td>1</td>\n",
       "      <td>2</td>\n",
       "      <td>5</td>\n",
       "      <td>5</td>\n",
       "      <td>2</td>\n",
       "      <td>3</td>\n",
       "      <td>4</td>\n",
       "      <td>1</td>\n",
       "      <td>8</td>\n",
       "      <td>4</td>\n",
       "    </tr>\n",
       "    <tr>\n",
       "      <th>1</th>\n",
       "      <td>3</td>\n",
       "      <td>1</td>\n",
       "      <td>1</td>\n",
       "      <td>3</td>\n",
       "      <td>3</td>\n",
       "      <td>0</td>\n",
       "      <td>2</td>\n",
       "      <td>0</td>\n",
       "      <td>24</td>\n",
       "      <td>1</td>\n",
       "      <td>...</td>\n",
       "      <td>1</td>\n",
       "      <td>2</td>\n",
       "      <td>5</td>\n",
       "      <td>5</td>\n",
       "      <td>2</td>\n",
       "      <td>3</td>\n",
       "      <td>4</td>\n",
       "      <td>1</td>\n",
       "      <td>8</td>\n",
       "      <td>4</td>\n",
       "    </tr>\n",
       "    <tr>\n",
       "      <th>2</th>\n",
       "      <td>3</td>\n",
       "      <td>1</td>\n",
       "      <td>1</td>\n",
       "      <td>0</td>\n",
       "      <td>3</td>\n",
       "      <td>0</td>\n",
       "      <td>4</td>\n",
       "      <td>0</td>\n",
       "      <td>5</td>\n",
       "      <td>2</td>\n",
       "      <td>...</td>\n",
       "      <td>1</td>\n",
       "      <td>2</td>\n",
       "      <td>5</td>\n",
       "      <td>5</td>\n",
       "      <td>2</td>\n",
       "      <td>3</td>\n",
       "      <td>4</td>\n",
       "      <td>1</td>\n",
       "      <td>8</td>\n",
       "      <td>4</td>\n",
       "    </tr>\n",
       "    <tr>\n",
       "      <th>3</th>\n",
       "      <td>3</td>\n",
       "      <td>1</td>\n",
       "      <td>1</td>\n",
       "      <td>0</td>\n",
       "      <td>3</td>\n",
       "      <td>0</td>\n",
       "      <td>0</td>\n",
       "      <td>0</td>\n",
       "      <td>6</td>\n",
       "      <td>2</td>\n",
       "      <td>...</td>\n",
       "      <td>5</td>\n",
       "      <td>3</td>\n",
       "      <td>5</td>\n",
       "      <td>5</td>\n",
       "      <td>2</td>\n",
       "      <td>3</td>\n",
       "      <td>4</td>\n",
       "      <td>1</td>\n",
       "      <td>8</td>\n",
       "      <td>0</td>\n",
       "    </tr>\n",
       "    <tr>\n",
       "      <th>4</th>\n",
       "      <td>3</td>\n",
       "      <td>1</td>\n",
       "      <td>1</td>\n",
       "      <td>0</td>\n",
       "      <td>3</td>\n",
       "      <td>0</td>\n",
       "      <td>2</td>\n",
       "      <td>0</td>\n",
       "      <td>15</td>\n",
       "      <td>2</td>\n",
       "      <td>...</td>\n",
       "      <td>1</td>\n",
       "      <td>2</td>\n",
       "      <td>5</td>\n",
       "      <td>5</td>\n",
       "      <td>2</td>\n",
       "      <td>3</td>\n",
       "      <td>4</td>\n",
       "      <td>1</td>\n",
       "      <td>8</td>\n",
       "      <td>4</td>\n",
       "    </tr>\n",
       "    <tr>\n",
       "      <th>...</th>\n",
       "      <td>...</td>\n",
       "      <td>...</td>\n",
       "      <td>...</td>\n",
       "      <td>...</td>\n",
       "      <td>...</td>\n",
       "      <td>...</td>\n",
       "      <td>...</td>\n",
       "      <td>...</td>\n",
       "      <td>...</td>\n",
       "      <td>...</td>\n",
       "      <td>...</td>\n",
       "      <td>...</td>\n",
       "      <td>...</td>\n",
       "      <td>...</td>\n",
       "      <td>...</td>\n",
       "      <td>...</td>\n",
       "      <td>...</td>\n",
       "      <td>...</td>\n",
       "      <td>...</td>\n",
       "      <td>...</td>\n",
       "      <td>...</td>\n",
       "    </tr>\n",
       "    <tr>\n",
       "      <th>1454</th>\n",
       "      <td>4</td>\n",
       "      <td>1</td>\n",
       "      <td>1</td>\n",
       "      <td>3</td>\n",
       "      <td>3</td>\n",
       "      <td>0</td>\n",
       "      <td>4</td>\n",
       "      <td>0</td>\n",
       "      <td>10</td>\n",
       "      <td>2</td>\n",
       "      <td>...</td>\n",
       "      <td>6</td>\n",
       "      <td>1</td>\n",
       "      <td>3</td>\n",
       "      <td>3</td>\n",
       "      <td>2</td>\n",
       "      <td>3</td>\n",
       "      <td>4</td>\n",
       "      <td>1</td>\n",
       "      <td>8</td>\n",
       "      <td>4</td>\n",
       "    </tr>\n",
       "    <tr>\n",
       "      <th>1455</th>\n",
       "      <td>4</td>\n",
       "      <td>1</td>\n",
       "      <td>1</td>\n",
       "      <td>3</td>\n",
       "      <td>3</td>\n",
       "      <td>0</td>\n",
       "      <td>4</td>\n",
       "      <td>0</td>\n",
       "      <td>10</td>\n",
       "      <td>2</td>\n",
       "      <td>...</td>\n",
       "      <td>4</td>\n",
       "      <td>3</td>\n",
       "      <td>5</td>\n",
       "      <td>5</td>\n",
       "      <td>2</td>\n",
       "      <td>3</td>\n",
       "      <td>4</td>\n",
       "      <td>1</td>\n",
       "      <td>8</td>\n",
       "      <td>0</td>\n",
       "    </tr>\n",
       "    <tr>\n",
       "      <th>1456</th>\n",
       "      <td>3</td>\n",
       "      <td>1</td>\n",
       "      <td>1</td>\n",
       "      <td>3</td>\n",
       "      <td>3</td>\n",
       "      <td>0</td>\n",
       "      <td>4</td>\n",
       "      <td>0</td>\n",
       "      <td>11</td>\n",
       "      <td>2</td>\n",
       "      <td>...</td>\n",
       "      <td>5</td>\n",
       "      <td>3</td>\n",
       "      <td>5</td>\n",
       "      <td>5</td>\n",
       "      <td>2</td>\n",
       "      <td>3</td>\n",
       "      <td>4</td>\n",
       "      <td>1</td>\n",
       "      <td>8</td>\n",
       "      <td>0</td>\n",
       "    </tr>\n",
       "    <tr>\n",
       "      <th>1457</th>\n",
       "      <td>3</td>\n",
       "      <td>1</td>\n",
       "      <td>1</td>\n",
       "      <td>3</td>\n",
       "      <td>3</td>\n",
       "      <td>0</td>\n",
       "      <td>4</td>\n",
       "      <td>0</td>\n",
       "      <td>11</td>\n",
       "      <td>2</td>\n",
       "      <td>...</td>\n",
       "      <td>6</td>\n",
       "      <td>1</td>\n",
       "      <td>3</td>\n",
       "      <td>3</td>\n",
       "      <td>2</td>\n",
       "      <td>3</td>\n",
       "      <td>2</td>\n",
       "      <td>3</td>\n",
       "      <td>8</td>\n",
       "      <td>4</td>\n",
       "    </tr>\n",
       "    <tr>\n",
       "      <th>1458</th>\n",
       "      <td>3</td>\n",
       "      <td>1</td>\n",
       "      <td>1</td>\n",
       "      <td>3</td>\n",
       "      <td>3</td>\n",
       "      <td>0</td>\n",
       "      <td>4</td>\n",
       "      <td>1</td>\n",
       "      <td>11</td>\n",
       "      <td>2</td>\n",
       "      <td>...</td>\n",
       "      <td>1</td>\n",
       "      <td>0</td>\n",
       "      <td>5</td>\n",
       "      <td>5</td>\n",
       "      <td>2</td>\n",
       "      <td>3</td>\n",
       "      <td>4</td>\n",
       "      <td>1</td>\n",
       "      <td>8</td>\n",
       "      <td>4</td>\n",
       "    </tr>\n",
       "  </tbody>\n",
       "</table>\n",
       "<p>2919 rows × 43 columns</p>\n",
       "</div>"
      ],
      "text/plain": [
       "      MSZoning  Street  Alley  LotShape  LandContour  Utilities  LotConfig  \\\n",
       "0            3       1      1         3            3          0          4   \n",
       "1            3       1      1         3            3          0          2   \n",
       "2            3       1      1         0            3          0          4   \n",
       "3            3       1      1         0            3          0          0   \n",
       "4            3       1      1         0            3          0          2   \n",
       "...        ...     ...    ...       ...          ...        ...        ...   \n",
       "1454         4       1      1         3            3          0          4   \n",
       "1455         4       1      1         3            3          0          4   \n",
       "1456         3       1      1         3            3          0          4   \n",
       "1457         3       1      1         3            3          0          4   \n",
       "1458         3       1      1         3            3          0          4   \n",
       "\n",
       "      LandSlope  Neighborhood  Condition1  ...  GarageType  GarageFinish  \\\n",
       "0             0             5           2  ...           1             2   \n",
       "1             0            24           1  ...           1             2   \n",
       "2             0             5           2  ...           1             2   \n",
       "3             0             6           2  ...           5             3   \n",
       "4             0            15           2  ...           1             2   \n",
       "...         ...           ...         ...  ...         ...           ...   \n",
       "1454          0            10           2  ...           6             1   \n",
       "1455          0            10           2  ...           4             3   \n",
       "1456          0            11           2  ...           5             3   \n",
       "1457          0            11           2  ...           6             1   \n",
       "1458          1            11           2  ...           1             0   \n",
       "\n",
       "      GarageQual  GarageCond  PavedDrive  PoolQC  Fence  MiscFeature  \\\n",
       "0              5           5           2       3      4            1   \n",
       "1              5           5           2       3      4            1   \n",
       "2              5           5           2       3      4            1   \n",
       "3              5           5           2       3      4            1   \n",
       "4              5           5           2       3      4            1   \n",
       "...          ...         ...         ...     ...    ...          ...   \n",
       "1454           3           3           2       3      4            1   \n",
       "1455           5           5           2       3      4            1   \n",
       "1456           5           5           2       3      4            1   \n",
       "1457           3           3           2       3      2            3   \n",
       "1458           5           5           2       3      4            1   \n",
       "\n",
       "      SaleType  SaleCondition  \n",
       "0            8              4  \n",
       "1            8              4  \n",
       "2            8              4  \n",
       "3            8              0  \n",
       "4            8              4  \n",
       "...        ...            ...  \n",
       "1454         8              4  \n",
       "1455         8              0  \n",
       "1456         8              0  \n",
       "1457         8              4  \n",
       "1458         8              4  \n",
       "\n",
       "[2919 rows x 43 columns]"
      ]
     },
     "execution_count": 38,
     "metadata": {},
     "output_type": "execute_result"
    }
   ],
   "source": [
    "objectcolsdummy"
   ]
  },
  {
   "cell_type": "code",
   "execution_count": 39,
   "id": "85623c98",
   "metadata": {},
   "outputs": [],
   "source": [
    "# Label Encode or Dummy Varible Encoding of Category Cols\n",
    "categorycolsdummy=categorycols.apply(le.fit_transform)"
   ]
  },
  {
   "cell_type": "code",
   "execution_count": 40,
   "id": "659e4881",
   "metadata": {},
   "outputs": [],
   "source": [
    "# Concatinating all 3 dataframes - numericcols, objectcolsdummy & \n",
    "# categorycolsdummy into one Dataframe\n",
    "combinedfclean=pd.concat([numericcols,objectcolsdummy,\n",
    "                         categorycolsdummy],axis=1)"
   ]
  },
  {
   "cell_type": "code",
   "execution_count": 41,
   "id": "3cd02dd5",
   "metadata": {},
   "outputs": [],
   "source": [
    "# Split data back to train & test from preprocessed combined dataframe\n",
    "housetraindf=combinedfclean[combinedfclean.SalePrice!='test']\n",
    "housetestdf=combinedfclean[combinedfclean.SalePrice=='test']"
   ]
  },
  {
   "cell_type": "code",
   "execution_count": 42,
   "id": "d8d5086a",
   "metadata": {},
   "outputs": [],
   "source": [
    "# Dropping SalePrice Column from test data\n",
    "housetestdf=housetestdf.drop('SalePrice',axis=1)"
   ]
  },
  {
   "cell_type": "code",
   "execution_count": 43,
   "id": "72f59821",
   "metadata": {},
   "outputs": [
    {
     "name": "stderr",
     "output_type": "stream",
     "text": [
      "C:\\ProgramData\\Anaconda3\\lib\\site-packages\\pandas\\core\\generic.py:5516: SettingWithCopyWarning: \n",
      "A value is trying to be set on a copy of a slice from a DataFrame.\n",
      "Try using .loc[row_indexer,col_indexer] = value instead\n",
      "\n",
      "See the caveats in the documentation: https://pandas.pydata.org/pandas-docs/stable/user_guide/indexing.html#returning-a-view-versus-a-copy\n",
      "  self[name] = value\n"
     ]
    }
   ],
   "source": [
    "# Converting SalePrice back to Numeric\n",
    "housetraindf.SalePrice=housetraindf.SalePrice.astype('float64')"
   ]
  },
  {
   "cell_type": "code",
   "execution_count": 44,
   "id": "acdfd4d9",
   "metadata": {},
   "outputs": [
    {
     "data": {
      "text/plain": [
       "OverallCond\n",
       "0     61000.000000\n",
       "1    141986.400000\n",
       "2    101929.400000\n",
       "3    120438.438596\n",
       "4    203146.914738\n",
       "5    153961.591270\n",
       "6    158145.487805\n",
       "7    155651.736111\n",
       "8    216004.545455\n",
       "Name: SalePrice, dtype: float64"
      ]
     },
     "execution_count": 44,
     "metadata": {},
     "output_type": "execute_result"
    }
   ],
   "source": [
    "# Test Null Average SalePrice of different OverallCond is equal\n",
    "housetraindf.SalePrice.groupby(housetraindf.OverallCond).mean()"
   ]
  },
  {
   "cell_type": "code",
   "execution_count": 45,
   "id": "a3b78314",
   "metadata": {},
   "outputs": [],
   "source": [
    "cond0=housetraindf[housetraindf.OverallCond==0]\n",
    "cond1=housetraindf[housetraindf.OverallCond==1]\n",
    "cond2=housetraindf[housetraindf.OverallCond==2]\n",
    "cond3=housetraindf[housetraindf.OverallCond==3]\n",
    "cond4=housetraindf[housetraindf.OverallCond==4]\n",
    "cond5=housetraindf[housetraindf.OverallCond==5]\n",
    "cond6=housetraindf[housetraindf.OverallCond==6]\n",
    "cond7=housetraindf[housetraindf.OverallCond==7]\n",
    "cond8=housetraindf[housetraindf.OverallCond==8]"
   ]
  },
  {
   "cell_type": "code",
   "execution_count": 46,
   "id": "47f7902c",
   "metadata": {},
   "outputs": [],
   "source": [
    "from scipy.stats import f_oneway"
   ]
  },
  {
   "cell_type": "code",
   "execution_count": 47,
   "id": "87725af7",
   "metadata": {},
   "outputs": [
    {
     "data": {
      "text/plain": [
       "F_onewayResult(statistic=26.00317308892095, pvalue=7.962288819950615e-38)"
      ]
     },
     "execution_count": 47,
     "metadata": {},
     "output_type": "execute_result"
    }
   ],
   "source": [
    "f_oneway(cond0.SalePrice,cond1.SalePrice,cond2.SalePrice,cond3.SalePrice,\n",
    "        cond4.SalePrice,cond5.SalePrice,cond6.SalePrice,cond7.SalePrice,\n",
    "        cond8.SalePrice)\n",
    "# SINCE pvalue=7.962288819950615e-38 IS LESS THAN 0.05, REJECT NULL\n",
    "# NULL - THERE IS NO SIGNFICANT DIFFERENCE IN AVERAGE SALEPRICE OF \n",
    "# DIFFERENT OVERALL CONDITION HOUSES"
   ]
  },
  {
   "cell_type": "code",
   "execution_count": 48,
   "id": "44dc25b3",
   "metadata": {},
   "outputs": [
    {
     "data": {
      "text/plain": [
       "MasVnrType\n",
       "0    146318.066667\n",
       "1    204691.871910\n",
       "2    156958.243119\n",
       "3    265583.625000\n",
       "Name: SalePrice, dtype: float64"
      ]
     },
     "execution_count": 48,
     "metadata": {},
     "output_type": "execute_result"
    }
   ],
   "source": [
    "# Test Null Average SalePrice of different MasVnrType is equal\n",
    "housetraindf.SalePrice.groupby(housetraindf.MasVnrType).mean()"
   ]
  },
  {
   "cell_type": "code",
   "execution_count": 49,
   "id": "eeae8358",
   "metadata": {},
   "outputs": [],
   "source": [
    "type0=housetraindf[housetraindf.MasVnrType==0]\n",
    "type1=housetraindf[housetraindf.MasVnrType==1]\n",
    "type2=housetraindf[housetraindf.MasVnrType==2]\n",
    "type3=housetraindf[housetraindf.MasVnrType==3]"
   ]
  },
  {
   "cell_type": "code",
   "execution_count": 50,
   "id": "6faa2d5a",
   "metadata": {},
   "outputs": [
    {
     "data": {
      "text/plain": [
       "F_onewayResult(statistic=108.9113045588765, pvalue=1.2797035312662622e-63)"
      ]
     },
     "execution_count": 50,
     "metadata": {},
     "output_type": "execute_result"
    }
   ],
   "source": [
    "f_oneway(type0.SalePrice,type1.SalePrice,type2.SalePrice,type3.SalePrice)\n",
    "# SINCE pvalue=1.2797035312662622e-63 IS LESS THAN 0.05, REJECT NULL\n",
    "# NULL - THERE IS NO SIGNFICANT DIFFERENCE IN AVERAGE SALEPRICE OF DIFFERENT OVERALL CONDITION HOUSES"
   ]
  },
  {
   "cell_type": "code",
   "execution_count": 51,
   "id": "a8c04b6f",
   "metadata": {},
   "outputs": [
    {
     "data": {
      "text/html": [
       "<div>\n",
       "<style scoped>\n",
       "    .dataframe tbody tr th:only-of-type {\n",
       "        vertical-align: middle;\n",
       "    }\n",
       "\n",
       "    .dataframe tbody tr th {\n",
       "        vertical-align: top;\n",
       "    }\n",
       "\n",
       "    .dataframe thead th {\n",
       "        text-align: right;\n",
       "    }\n",
       "</style>\n",
       "<table border=\"1\" class=\"dataframe\">\n",
       "  <thead>\n",
       "    <tr style=\"text-align: right;\">\n",
       "      <th>OverallQual</th>\n",
       "      <th>0</th>\n",
       "      <th>1</th>\n",
       "      <th>2</th>\n",
       "      <th>3</th>\n",
       "      <th>4</th>\n",
       "      <th>5</th>\n",
       "      <th>6</th>\n",
       "      <th>7</th>\n",
       "      <th>8</th>\n",
       "      <th>9</th>\n",
       "    </tr>\n",
       "    <tr>\n",
       "      <th>OverallCond</th>\n",
       "      <th></th>\n",
       "      <th></th>\n",
       "      <th></th>\n",
       "      <th></th>\n",
       "      <th></th>\n",
       "      <th></th>\n",
       "      <th></th>\n",
       "      <th></th>\n",
       "      <th></th>\n",
       "      <th></th>\n",
       "    </tr>\n",
       "  </thead>\n",
       "  <tbody>\n",
       "    <tr>\n",
       "      <th>0</th>\n",
       "      <td>1</td>\n",
       "      <td>0</td>\n",
       "      <td>0</td>\n",
       "      <td>0</td>\n",
       "      <td>0</td>\n",
       "      <td>0</td>\n",
       "      <td>0</td>\n",
       "      <td>0</td>\n",
       "      <td>0</td>\n",
       "      <td>0</td>\n",
       "    </tr>\n",
       "    <tr>\n",
       "      <th>1</th>\n",
       "      <td>0</td>\n",
       "      <td>0</td>\n",
       "      <td>2</td>\n",
       "      <td>1</td>\n",
       "      <td>1</td>\n",
       "      <td>0</td>\n",
       "      <td>0</td>\n",
       "      <td>0</td>\n",
       "      <td>1</td>\n",
       "      <td>0</td>\n",
       "    </tr>\n",
       "    <tr>\n",
       "      <th>2</th>\n",
       "      <td>1</td>\n",
       "      <td>2</td>\n",
       "      <td>3</td>\n",
       "      <td>5</td>\n",
       "      <td>7</td>\n",
       "      <td>6</td>\n",
       "      <td>1</td>\n",
       "      <td>0</td>\n",
       "      <td>0</td>\n",
       "      <td>0</td>\n",
       "    </tr>\n",
       "    <tr>\n",
       "      <th>3</th>\n",
       "      <td>0</td>\n",
       "      <td>0</td>\n",
       "      <td>6</td>\n",
       "      <td>20</td>\n",
       "      <td>21</td>\n",
       "      <td>6</td>\n",
       "      <td>3</td>\n",
       "      <td>1</td>\n",
       "      <td>0</td>\n",
       "      <td>0</td>\n",
       "    </tr>\n",
       "    <tr>\n",
       "      <th>4</th>\n",
       "      <td>0</td>\n",
       "      <td>1</td>\n",
       "      <td>2</td>\n",
       "      <td>44</td>\n",
       "      <td>142</td>\n",
       "      <td>180</td>\n",
       "      <td>247</td>\n",
       "      <td>148</td>\n",
       "      <td>42</td>\n",
       "      <td>15</td>\n",
       "    </tr>\n",
       "    <tr>\n",
       "      <th>5</th>\n",
       "      <td>0</td>\n",
       "      <td>0</td>\n",
       "      <td>5</td>\n",
       "      <td>24</td>\n",
       "      <td>104</td>\n",
       "      <td>83</td>\n",
       "      <td>28</td>\n",
       "      <td>7</td>\n",
       "      <td>0</td>\n",
       "      <td>1</td>\n",
       "    </tr>\n",
       "    <tr>\n",
       "      <th>6</th>\n",
       "      <td>0</td>\n",
       "      <td>0</td>\n",
       "      <td>1</td>\n",
       "      <td>19</td>\n",
       "      <td>89</td>\n",
       "      <td>66</td>\n",
       "      <td>23</td>\n",
       "      <td>7</td>\n",
       "      <td>0</td>\n",
       "      <td>0</td>\n",
       "    </tr>\n",
       "    <tr>\n",
       "      <th>7</th>\n",
       "      <td>0</td>\n",
       "      <td>0</td>\n",
       "      <td>1</td>\n",
       "      <td>2</td>\n",
       "      <td>29</td>\n",
       "      <td>30</td>\n",
       "      <td>8</td>\n",
       "      <td>2</td>\n",
       "      <td>0</td>\n",
       "      <td>0</td>\n",
       "    </tr>\n",
       "    <tr>\n",
       "      <th>8</th>\n",
       "      <td>0</td>\n",
       "      <td>0</td>\n",
       "      <td>0</td>\n",
       "      <td>1</td>\n",
       "      <td>4</td>\n",
       "      <td>3</td>\n",
       "      <td>9</td>\n",
       "      <td>3</td>\n",
       "      <td>0</td>\n",
       "      <td>2</td>\n",
       "    </tr>\n",
       "  </tbody>\n",
       "</table>\n",
       "</div>"
      ],
      "text/plain": [
       "OverallQual  0  1  2   3    4    5    6    7   8   9\n",
       "OverallCond                                         \n",
       "0            1  0  0   0    0    0    0    0   0   0\n",
       "1            0  0  2   1    1    0    0    0   1   0\n",
       "2            1  2  3   5    7    6    1    0   0   0\n",
       "3            0  0  6  20   21    6    3    1   0   0\n",
       "4            0  1  2  44  142  180  247  148  42  15\n",
       "5            0  0  5  24  104   83   28    7   0   1\n",
       "6            0  0  1  19   89   66   23    7   0   0\n",
       "7            0  0  1   2   29   30    8    2   0   0\n",
       "8            0  0  0   1    4    3    9    3   0   2"
      ]
     },
     "execution_count": 51,
     "metadata": {},
     "output_type": "execute_result"
    }
   ],
   "source": [
    "pd.crosstab(housetraindf.OverallCond,housetraindf.OverallQual)"
   ]
  },
  {
   "cell_type": "code",
   "execution_count": 52,
   "id": "22f815ec",
   "metadata": {},
   "outputs": [],
   "source": [
    "from scipy.stats import chi2_contingency"
   ]
  },
  {
   "cell_type": "code",
   "execution_count": 53,
   "id": "a002e88c",
   "metadata": {},
   "outputs": [
    {
     "data": {
      "text/plain": [
       "(1322.0585284633244,\n",
       " 4.3223202616191885e-229,\n",
       " 72,\n",
       " array([[1.36986301e-03, 2.05479452e-03, 1.36986301e-02, 7.94520548e-02,\n",
       "         2.71917808e-01, 2.56164384e-01, 2.18493151e-01, 1.15068493e-01,\n",
       "         2.94520548e-02, 1.23287671e-02],\n",
       "        [6.84931507e-03, 1.02739726e-02, 6.84931507e-02, 3.97260274e-01,\n",
       "         1.35958904e+00, 1.28082192e+00, 1.09246575e+00, 5.75342466e-01,\n",
       "         1.47260274e-01, 6.16438356e-02],\n",
       "        [3.42465753e-02, 5.13698630e-02, 3.42465753e-01, 1.98630137e+00,\n",
       "         6.79794521e+00, 6.40410959e+00, 5.46232877e+00, 2.87671233e+00,\n",
       "         7.36301370e-01, 3.08219178e-01],\n",
       "        [7.80821918e-02, 1.17123288e-01, 7.80821918e-01, 4.52876712e+00,\n",
       "         1.54993151e+01, 1.46013699e+01, 1.24541096e+01, 6.55890411e+00,\n",
       "         1.67876712e+00, 7.02739726e-01],\n",
       "        [1.12465753e+00, 1.68698630e+00, 1.12465753e+01, 6.52301370e+01,\n",
       "         2.23244521e+02, 2.10310959e+02, 1.79382877e+02, 9.44712329e+01,\n",
       "         2.41801370e+01, 1.01219178e+01],\n",
       "        [3.45205479e-01, 5.17808219e-01, 3.45205479e+00, 2.00219178e+01,\n",
       "         6.85232877e+01, 6.45534247e+01, 5.50602740e+01, 2.89972603e+01,\n",
       "         7.42191781e+00, 3.10684932e+00],\n",
       "        [2.80821918e-01, 4.21232877e-01, 2.80821918e+00, 1.62876712e+01,\n",
       "         5.57431507e+01, 5.25136986e+01, 4.47910959e+01, 2.35890411e+01,\n",
       "         6.03767123e+00, 2.52739726e+00],\n",
       "        [9.86301370e-02, 1.47945205e-01, 9.86301370e-01, 5.72054795e+00,\n",
       "         1.95780822e+01, 1.84438356e+01, 1.57315068e+01, 8.28493151e+00,\n",
       "         2.12054795e+00, 8.87671233e-01],\n",
       "        [3.01369863e-02, 4.52054795e-02, 3.01369863e-01, 1.74794521e+00,\n",
       "         5.98219178e+00, 5.63561644e+00, 4.80684932e+00, 2.53150685e+00,\n",
       "         6.47945205e-01, 2.71232877e-01]]))"
      ]
     },
     "execution_count": 53,
     "metadata": {},
     "output_type": "execute_result"
    }
   ],
   "source": [
    "chi2_contingency(pd.crosstab(housetraindf.OverallCond,housetraindf.OverallQual))\n",
    "# Since p-value= 4.3223202616191885e-229 is less than 0.05, Reject null"
   ]
  },
  {
   "cell_type": "code",
   "execution_count": 54,
   "id": "5960eb36",
   "metadata": {},
   "outputs": [
    {
     "data": {
      "text/html": [
       "<div>\n",
       "<style scoped>\n",
       "    .dataframe tbody tr th:only-of-type {\n",
       "        vertical-align: middle;\n",
       "    }\n",
       "\n",
       "    .dataframe tbody tr th {\n",
       "        vertical-align: top;\n",
       "    }\n",
       "\n",
       "    .dataframe thead th {\n",
       "        text-align: right;\n",
       "    }\n",
       "</style>\n",
       "<table border=\"1\" class=\"dataframe\">\n",
       "  <thead>\n",
       "    <tr style=\"text-align: right;\">\n",
       "      <th>MasVnrType</th>\n",
       "      <th>0</th>\n",
       "      <th>1</th>\n",
       "      <th>2</th>\n",
       "      <th>3</th>\n",
       "    </tr>\n",
       "    <tr>\n",
       "      <th>OverallCond</th>\n",
       "      <th></th>\n",
       "      <th></th>\n",
       "      <th></th>\n",
       "      <th></th>\n",
       "    </tr>\n",
       "  </thead>\n",
       "  <tbody>\n",
       "    <tr>\n",
       "      <th>0</th>\n",
       "      <td>0</td>\n",
       "      <td>0</td>\n",
       "      <td>1</td>\n",
       "      <td>0</td>\n",
       "    </tr>\n",
       "    <tr>\n",
       "      <th>1</th>\n",
       "      <td>0</td>\n",
       "      <td>0</td>\n",
       "      <td>4</td>\n",
       "      <td>1</td>\n",
       "    </tr>\n",
       "    <tr>\n",
       "      <th>2</th>\n",
       "      <td>1</td>\n",
       "      <td>3</td>\n",
       "      <td>21</td>\n",
       "      <td>0</td>\n",
       "    </tr>\n",
       "    <tr>\n",
       "      <th>3</th>\n",
       "      <td>2</td>\n",
       "      <td>10</td>\n",
       "      <td>44</td>\n",
       "      <td>1</td>\n",
       "    </tr>\n",
       "    <tr>\n",
       "      <th>4</th>\n",
       "      <td>6</td>\n",
       "      <td>305</td>\n",
       "      <td>396</td>\n",
       "      <td>114</td>\n",
       "    </tr>\n",
       "    <tr>\n",
       "      <th>5</th>\n",
       "      <td>2</td>\n",
       "      <td>67</td>\n",
       "      <td>177</td>\n",
       "      <td>6</td>\n",
       "    </tr>\n",
       "    <tr>\n",
       "      <th>6</th>\n",
       "      <td>4</td>\n",
       "      <td>43</td>\n",
       "      <td>153</td>\n",
       "      <td>5</td>\n",
       "    </tr>\n",
       "    <tr>\n",
       "      <th>7</th>\n",
       "      <td>0</td>\n",
       "      <td>11</td>\n",
       "      <td>61</td>\n",
       "      <td>0</td>\n",
       "    </tr>\n",
       "    <tr>\n",
       "      <th>8</th>\n",
       "      <td>0</td>\n",
       "      <td>6</td>\n",
       "      <td>15</td>\n",
       "      <td>1</td>\n",
       "    </tr>\n",
       "  </tbody>\n",
       "</table>\n",
       "</div>"
      ],
      "text/plain": [
       "MasVnrType   0    1    2    3\n",
       "OverallCond                  \n",
       "0            0    0    1    0\n",
       "1            0    0    4    1\n",
       "2            1    3   21    0\n",
       "3            2   10   44    1\n",
       "4            6  305  396  114\n",
       "5            2   67  177    6\n",
       "6            4   43  153    5\n",
       "7            0   11   61    0\n",
       "8            0    6   15    1"
      ]
     },
     "execution_count": 54,
     "metadata": {},
     "output_type": "execute_result"
    }
   ],
   "source": [
    "pd.crosstab(housetraindf.OverallCond,housetraindf.MasVnrType)"
   ]
  },
  {
   "cell_type": "code",
   "execution_count": 55,
   "id": "512b8319",
   "metadata": {},
   "outputs": [
    {
     "data": {
      "text/plain": [
       "(144.5478052360173,\n",
       " 3.3881697799651887e-19,\n",
       " 24,\n",
       " array([[1.02739726e-02, 3.04794521e-01, 5.97260274e-01, 8.76712329e-02],\n",
       "        [5.13698630e-02, 1.52397260e+00, 2.98630137e+00, 4.38356164e-01],\n",
       "        [2.56849315e-01, 7.61986301e+00, 1.49315068e+01, 2.19178082e+00],\n",
       "        [5.85616438e-01, 1.73732877e+01, 3.40438356e+01, 4.99726027e+00],\n",
       "        [8.43493151e+00, 2.50236301e+02, 4.90350685e+02, 7.19780822e+01],\n",
       "        [2.58904110e+00, 7.68082192e+01, 1.50509589e+02, 2.20931507e+01],\n",
       "        [2.10616438e+00, 6.24828767e+01, 1.22438356e+02, 1.79726027e+01],\n",
       "        [7.39726027e-01, 2.19452055e+01, 4.30027397e+01, 6.31232877e+00],\n",
       "        [2.26027397e-01, 6.70547945e+00, 1.31397260e+01, 1.92876712e+00]]))"
      ]
     },
     "execution_count": 55,
     "metadata": {},
     "output_type": "execute_result"
    }
   ],
   "source": [
    "chi2_contingency(pd.crosstab(housetraindf.OverallCond,housetraindf.MasVnrType))\n",
    "# Since p-value= 3.3881697799651887e-19 is less than 0.05, Reject null"
   ]
  },
  {
   "cell_type": "code",
   "execution_count": 56,
   "id": "0b35f9f4",
   "metadata": {},
   "outputs": [],
   "source": [
    "# Split Data into DependentVariable(y) & Independent Variables (Xs)\n",
    "y=housetraindf.SalePrice\n",
    "X=housetraindf.drop(['SalePrice','Id'],axis=1)"
   ]
  },
  {
   "cell_type": "code",
   "execution_count": 57,
   "id": "23d8621e",
   "metadata": {},
   "outputs": [],
   "source": [
    "housetestdf=housetestdf.drop('Id',axis=1)"
   ]
  },
  {
   "cell_type": "code",
   "execution_count": 58,
   "id": "3cf45cb6",
   "metadata": {},
   "outputs": [
    {
     "data": {
      "text/plain": [
       "<AxesSubplot:>"
      ]
     },
     "execution_count": 58,
     "metadata": {},
     "output_type": "execute_result"
    },
    {
     "data": {
      "image/png": "[encoded data removed]",
      "text/plain": [
       "<Figure size 432x288 with 1 Axes>"
      ]
     },
     "metadata": {
      "needs_background": "light"
     },
     "output_type": "display_data"
    }
   ],
   "source": [
    "# Check Distrbution and Outliers of SalePrice\n",
    "y.plot(kind='box',vert=False)"
   ]
  },
  {
   "cell_type": "code",
   "execution_count": 59,
   "id": "5f4c0474",
   "metadata": {},
   "outputs": [
    {
     "data": {
      "text/plain": [
       "<AxesSubplot:ylabel='Density'>"
      ]
     },
     "execution_count": 59,
     "metadata": {},
     "output_type": "execute_result"
    },
    {
     "data": {
      "image/png": "[encoded data removed]",
      "text/plain": [
       "<Figure size 432x288 with 1 Axes>"
      ]
     },
     "metadata": {
      "needs_background": "light"
     },
     "output_type": "display_data"
    }
   ],
   "source": [
    "y.plot(kind='density')"
   ]
  },
  {
   "cell_type": "code",
   "execution_count": 60,
   "id": "c9522556",
   "metadata": {},
   "outputs": [
    {
     "data": {
      "text/plain": [
       "<AxesSubplot:ylabel='Frequency'>"
      ]
     },
     "execution_count": 60,
     "metadata": {},
     "output_type": "execute_result"
    },
    {
     "data": {
      "image/png": "[encoded data removed]",
      "text/plain": [
       "<Figure size 432x288 with 1 Axes>"
      ]
     },
     "metadata": {
      "needs_background": "light"
     },
     "output_type": "display_data"
    }
   ],
   "source": [
    "y.plot(kind='hist')"
   ]
  },
  {
   "cell_type": "code",
   "execution_count": 61,
   "id": "33b0b693",
   "metadata": {},
   "outputs": [],
   "source": [
    "# Linear Regression\n",
    "from sklearn.linear_model import LinearRegression"
   ]
  },
  {
   "cell_type": "code",
   "execution_count": 62,
   "id": "d741e02a",
   "metadata": {},
   "outputs": [],
   "source": [
    "linreg=LinearRegression()"
   ]
  },
  {
   "cell_type": "code",
   "execution_count": 63,
   "id": "51c74c59",
   "metadata": {},
   "outputs": [],
   "source": [
    "linregmodel=linreg.fit(X,y)"
   ]
  },
  {
   "cell_type": "code",
   "execution_count": 64,
   "id": "a18a3149",
   "metadata": {},
   "outputs": [
    {
     "data": {
      "text/plain": [
       "0.853106728035443"
      ]
     },
     "execution_count": 64,
     "metadata": {},
     "output_type": "execute_result"
    }
   ],
   "source": [
    "linregmodel.score(X,y) # R Square"
   ]
  },
  {
   "cell_type": "code",
   "execution_count": 65,
   "id": "1ac4dd82",
   "metadata": {},
   "outputs": [],
   "source": [
    "regpredict=linregmodel.predict(housetestdf)"
   ]
  },
  {
   "cell_type": "code",
   "execution_count": 66,
   "id": "6f7da426",
   "metadata": {},
   "outputs": [],
   "source": [
    "pd.DataFrame(regpredict).to_csv('reg.csv')"
   ]
  },
  {
   "cell_type": "code",
   "execution_count": 67,
   "id": "8dd97022",
   "metadata": {},
   "outputs": [],
   "source": [
    "# Decision Tree Regressor\n",
    "from sklearn.tree import DecisionTreeRegressor"
   ]
  },
  {
   "cell_type": "code",
   "execution_count": 68,
   "id": "ddcfe947",
   "metadata": {},
   "outputs": [],
   "source": [
    "tree=DecisionTreeRegressor()"
   ]
  },
  {
   "cell_type": "code",
   "execution_count": 69,
   "id": "5c824684",
   "metadata": {},
   "outputs": [],
   "source": [
    "treemodel=tree.fit(X,y)"
   ]
  },
  {
   "cell_type": "code",
   "execution_count": 70,
   "id": "392bed12",
   "metadata": {},
   "outputs": [
    {
     "data": {
      "text/plain": [
       "1.0"
      ]
     },
     "execution_count": 70,
     "metadata": {},
     "output_type": "execute_result"
    }
   ],
   "source": [
    "treemodel.score(X,y)"
   ]
  },
  {
   "cell_type": "code",
   "execution_count": 71,
   "id": "411a49ea",
   "metadata": {},
   "outputs": [],
   "source": [
    "treepredict=treemodel.predict(housetestdf)"
   ]
  },
  {
   "cell_type": "code",
   "execution_count": 72,
   "id": "046e5071",
   "metadata": {},
   "outputs": [],
   "source": [
    "pd.DataFrame(treepredict).to_csv('tree.csv')"
   ]
  },
  {
   "cell_type": "code",
   "execution_count": 73,
   "id": "e2c3239d",
   "metadata": {},
   "outputs": [],
   "source": [
    "# Random Forest Regressor\n",
    "from sklearn.ensemble import RandomForestRegressor"
   ]
  },
  {
   "cell_type": "code",
   "execution_count": 74,
   "id": "c217658f",
   "metadata": {},
   "outputs": [],
   "source": [
    "RF=RandomForestRegressor(n_estimators=3000)"
   ]
  },
  {
   "cell_type": "code",
   "execution_count": 75,
   "id": "eeedbba5",
   "metadata": {},
   "outputs": [],
   "source": [
    "RFmodel=RF.fit(X,y)"
   ]
  },
  {
   "cell_type": "code",
   "execution_count": 76,
   "id": "e35c9133",
   "metadata": {},
   "outputs": [
    {
     "data": {
      "text/plain": [
       "0.982505542859752"
      ]
     },
     "execution_count": 76,
     "metadata": {},
     "output_type": "execute_result"
    }
   ],
   "source": [
    "RFmodel.score(X,y)"
   ]
  },
  {
   "cell_type": "code",
   "execution_count": 77,
   "id": "804dc7a7",
   "metadata": {},
   "outputs": [],
   "source": [
    "Rfpredict=RFmodel.predict(housetestdf)"
   ]
  },
  {
   "cell_type": "code",
   "execution_count": 78,
   "id": "bc8c50e2",
   "metadata": {},
   "outputs": [],
   "source": [
    "pd.DataFrame(Rfpredict).to_csv('RF.csv')"
   ]
  },
  {
   "cell_type": "code",
   "execution_count": 79,
   "id": "074c7cb7",
   "metadata": {},
   "outputs": [],
   "source": [
    "# Gradient Boost ingRegressor\n",
    "from sklearn.ensemble import GradientBoostingRegressor"
   ]
  },
  {
   "cell_type": "code",
   "execution_count": 80,
   "id": "76938f3d",
   "metadata": {},
   "outputs": [],
   "source": [
    "gbm=GradientBoostingRegressor(n_estimators=2000)"
   ]
  },
  {
   "cell_type": "code",
   "execution_count": 81,
   "id": "f888738f",
   "metadata": {},
   "outputs": [],
   "source": [
    "gbmmodel=gbm.fit(X,y)"
   ]
  },
  {
   "cell_type": "code",
   "execution_count": 82,
   "id": "5141b9ea",
   "metadata": {},
   "outputs": [
    {
     "data": {
      "text/plain": [
       "0.9997657179234075"
      ]
     },
     "execution_count": 82,
     "metadata": {},
     "output_type": "execute_result"
    }
   ],
   "source": [
    "gbmmodel.score(X,y)"
   ]
  },
  {
   "cell_type": "code",
   "execution_count": 83,
   "id": "f9bf79ab",
   "metadata": {},
   "outputs": [],
   "source": [
    "gbmpredict=gbmmodel.predict(housetestdf)"
   ]
  },
  {
   "cell_type": "code",
   "execution_count": 84,
   "id": "2d20ee20",
   "metadata": {},
   "outputs": [],
   "source": [
    "pd.DataFrame(gbmpredict).to_csv('gbm.csv')"
   ]
  },
  {
   "cell_type": "code",
   "execution_count": 85,
   "id": "f57b337c",
   "metadata": {},
   "outputs": [],
   "source": [
    "# Lasso, Ridge, ElasticNet\n",
    "from sklearn.linear_model import Lasso,Ridge,ElasticNet"
   ]
  },
  {
   "cell_type": "code",
   "execution_count": 86,
   "id": "20216d63",
   "metadata": {},
   "outputs": [],
   "source": [
    "lasso=Lasso(max_iter=7000)"
   ]
  },
  {
   "cell_type": "code",
   "execution_count": 87,
   "id": "7b3c7c5f",
   "metadata": {},
   "outputs": [],
   "source": [
    "lassomodel=lasso.fit(X,y)"
   ]
  },
  {
   "cell_type": "code",
   "execution_count": 88,
   "id": "650f8ed3",
   "metadata": {},
   "outputs": [
    {
     "data": {
      "text/plain": [
       "0.8531063330827384"
      ]
     },
     "execution_count": 88,
     "metadata": {},
     "output_type": "execute_result"
    }
   ],
   "source": [
    "lassomodel.score(X,y)"
   ]
  },
  {
   "cell_type": "code",
   "execution_count": 89,
   "id": "eddaabb7",
   "metadata": {},
   "outputs": [],
   "source": [
    "lassopredict=lassomodel.predict(housetestdf)"
   ]
  },
  {
   "cell_type": "code",
   "execution_count": 90,
   "id": "149c1e72",
   "metadata": {},
   "outputs": [],
   "source": [
    "pd.DataFrame(lassopredict).to_csv('lasso.csv')"
   ]
  },
  {
   "cell_type": "code",
   "execution_count": 91,
   "id": "c06b103c",
   "metadata": {},
   "outputs": [],
   "source": [
    "ridge=Ridge()"
   ]
  },
  {
   "cell_type": "code",
   "execution_count": 92,
   "id": "691f0971",
   "metadata": {},
   "outputs": [],
   "source": [
    "ridgemodel=ridge.fit(X,y)"
   ]
  },
  {
   "cell_type": "code",
   "execution_count": 93,
   "id": "28a29e47",
   "metadata": {},
   "outputs": [
    {
     "data": {
      "text/plain": [
       "0.8528963294087695"
      ]
     },
     "execution_count": 93,
     "metadata": {},
     "output_type": "execute_result"
    }
   ],
   "source": [
    "ridgemodel.score(X,y)"
   ]
  },
  {
   "cell_type": "code",
   "execution_count": 94,
   "id": "b8ada68a",
   "metadata": {},
   "outputs": [],
   "source": [
    "ridgepredict=ridgemodel.predict(housetestdf)"
   ]
  },
  {
   "cell_type": "code",
   "execution_count": 95,
   "id": "400978a9",
   "metadata": {},
   "outputs": [],
   "source": [
    "pd.DataFrame(ridgepredict).to_csv('ridge.csv')"
   ]
  },
  {
   "cell_type": "code",
   "execution_count": 96,
   "id": "3c3d8e8d",
   "metadata": {},
   "outputs": [],
   "source": [
    "en=ElasticNet()"
   ]
  },
  {
   "cell_type": "code",
   "execution_count": 97,
   "id": "1ad92066",
   "metadata": {},
   "outputs": [
    {
     "name": "stderr",
     "output_type": "stream",
     "text": [
      "C:\\ProgramData\\Anaconda3\\lib\\site-packages\\sklearn\\linear_model\\_coordinate_descent.py:530: ConvergenceWarning: Objective did not converge. You might want to increase the number of iterations. Duality gap: 812216712069.1602, tolerance: 920791133.4609977\n",
      "  model = cd_fast.enet_coordinate_descent(\n"
     ]
    }
   ],
   "source": [
    "enmodel=en.fit(X,y)"
   ]
  },
  {
   "cell_type": "code",
   "execution_count": 98,
   "id": "9eec89cf",
   "metadata": {},
   "outputs": [
    {
     "data": {
      "text/plain": [
       "0.8352802823323568"
      ]
     },
     "execution_count": 98,
     "metadata": {},
     "output_type": "execute_result"
    }
   ],
   "source": [
    "enmodel.score(X,y)"
   ]
  },
  {
   "cell_type": "code",
   "execution_count": 99,
   "id": "beae54c4",
   "metadata": {},
   "outputs": [],
   "source": [
    "enpredict=enmodel.predict(housetestdf)"
   ]
  },
  {
   "cell_type": "code",
   "execution_count": 100,
   "id": "613d317b",
   "metadata": {},
   "outputs": [],
   "source": [
    "pd.DataFrame(enpredict).to_csv('elasticnet.csv')"
   ]
  },
  {
   "cell_type": "code",
   "execution_count": 101,
   "id": "059e9be6",
   "metadata": {},
   "outputs": [
    {
     "name": "stdout",
     "output_type": "stream",
     "text": [
      "^C\n"
     ]
    }
   ],
   "source": [
    "# Xgboost - Extreme Gradient Boosting Algorithm\n",
    "!pip install xgboost"
   ]
  },
  {
   "cell_type": "code",
   "execution_count": 102,
   "id": "dbf02b97",
   "metadata": {},
   "outputs": [
    {
     "ename": "ModuleNotFoundError",
     "evalue": "No module named 'xgboost'",
     "output_type": "error",
     "traceback": [
      "\u001b[1;31m---------------------------------------------------------------------------\u001b[0m",
      "\u001b[1;31mModuleNotFoundError\u001b[0m                       Traceback (most recent call last)",
      "\u001b[1;32m~\\AppData\\Local\\Temp/ipykernel_10504/2785909336.py\u001b[0m in \u001b[0;36m<module>\u001b[1;34m\u001b[0m\n\u001b[1;32m----> 1\u001b[1;33m \u001b[1;32mimport\u001b[0m \u001b[0mxgboost\u001b[0m \u001b[1;32mas\u001b[0m \u001b[0mxgb\u001b[0m\u001b[1;33m\u001b[0m\u001b[1;33m\u001b[0m\u001b[0m\n\u001b[0m",
      "\u001b[1;31mModuleNotFoundError\u001b[0m: No module named 'xgboost'"
     ]
    }
   ],
   "source": [
    "import xgboost as xgb"
   ]
  },
  {
   "cell_type": "code",
   "execution_count": null,
   "id": "4904868e",
   "metadata": {},
   "outputs": [],
   "source": [
    "best_xgb=xgb.XGBRegressor(colsample_bytree=0.40,\n",
    "                         gamma=0,\n",
    "                         learning_rate=0.07,\n",
    "                         min_child_weight=1.5,\n",
    "                         n_estimators=10000,\n",
    "                         reg_alpha=0.75,\n",
    "                         reg_lambda=0.45,\n",
    "                         subsample=0.6)"
   ]
  },
  {
   "cell_type": "code",
   "execution_count": null,
   "id": "40dcce0a",
   "metadata": {},
   "outputs": [],
   "source": [
    "best_xgb_model=best_xgb.fit(X,y)"
   ]
  },
  {
   "cell_type": "code",
   "execution_count": null,
   "id": "fc7c1c18",
   "metadata": {},
   "outputs": [],
   "source": [
    "best_xgb_model.score(X,y)"
   ]
  },
  {
   "cell_type": "code",
   "execution_count": null,
   "id": "fd512c66",
   "metadata": {},
   "outputs": [],
   "source": [
    "xgb_predict=best_xgb_model.predict(housetestdf)"
   ]
  },
  {
   "cell_type": "code",
   "execution_count": null,
   "id": "a719ee4b",
   "metadata": {},
   "outputs": [],
   "source": [
    "pd.DataFrame(xgb_predict).to_csv('xgb.csv')"
   ]
  },
  {
   "cell_type": "code",
   "execution_count": null,
   "id": "a1d1cc46",
   "metadata": {},
   "outputs": [],
   "source": [
    "best_xgb2=xgb.XGBRegressor(n_estimators=1000,\n",
    "                           learning_rate=0.06,\n",
    "                           max_depth=6,gamma=0,\n",
    "                           colsample_bytree=0.5,\n",
    "                           subsample=0.7,\n",
    "                           min_child_weight=1)"
   ]
  },
  {
   "cell_type": "code",
   "execution_count": null,
   "id": "2c710086",
   "metadata": {},
   "outputs": [],
   "source": [
    "best_xgb_model2=best_xgb2.fit(X,y)"
   ]
  },
  {
   "cell_type": "code",
   "execution_count": null,
   "id": "a3643922",
   "metadata": {},
   "outputs": [],
   "source": [
    "best_xgb_model2.score(X,y)"
   ]
  },
  {
   "cell_type": "code",
   "execution_count": null,
   "id": "f98f2b78",
   "metadata": {},
   "outputs": [],
   "source": [
    "xgb_predict2=best_xgb_model2.predict(housetestdf)"
   ]
  },
  {
   "cell_type": "code",
   "execution_count": null,
   "id": "c0a6a93d",
   "metadata": {},
   "outputs": [],
   "source": [
    "pd.DataFrame(xgb_predict2).to_csv('xgb2.csv')"
   ]
  },
  {
   "cell_type": "code",
   "execution_count": null,
   "id": "86dadd10",
   "metadata": {},
   "outputs": [],
   "source": []
  }
 ],
 "metadata": {
  "kernelspec": {
   "display_name": "Python 3 (ipykernel)",
   "language": "python",
   "name": "python3"
  },
  "language_info": {
   "codemirror_mode": {
    "name": "ipython",
    "version": 3
   },
   "file_extension": ".py",
   "mimetype": "text/x-python",
   "name": "python",
   "nbconvert_exporter": "python",
   "pygments_lexer": "ipython3",
   "version": "3.9.7"
  }
 },
 "nbformat": 4,
 "nbformat_minor": 5
}
